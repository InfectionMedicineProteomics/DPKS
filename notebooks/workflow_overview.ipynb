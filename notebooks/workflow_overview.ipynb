{
 "cells": [
  {
   "cell_type": "code",
   "execution_count": 13,
   "id": "initial_id",
   "metadata": {
    "collapsed": true,
    "ExecuteTime": {
     "end_time": "2024-02-21T14:11:25.387530400Z",
     "start_time": "2024-02-21T14:10:52.673461900Z"
    }
   },
   "outputs": [
    {
     "name": "stderr",
     "output_type": "stream",
     "text": [
      "invalid value encountered in true_divide\n",
      "invalid value encountered in true_divide\n",
      "invalid value encountered in true_divide\n"
     ]
    }
   ],
   "source": [
    "import xgboost\n",
    "from dpks.quant_matrix import QuantMatrix\n",
    "\n",
    "quant_data = \"../tests/input_files/de_matrix.tsv\"\n",
    "design_matrix = \"../tests/input_files/de_design_matrix.tsv\"\n",
    "\n",
    "clf = xgboost.XGBClassifier(\n",
    "    max_depth=2,\n",
    "    reg_lambda=2,\n",
    "    objective=\"binary:logistic\",\n",
    "    seed=42\n",
    ")\n",
    "\n",
    "qm = (\n",
    "    QuantMatrix(\n",
    "        quantification_file=quant_data,\n",
    "        design_matrix_file=design_matrix\n",
    "    )\n",
    "    .filter()\n",
    "    .normalize(\n",
    "        method=\"mean\"\n",
    "    )\n",
    "    .quantify(\n",
    "        method=\"top_n\",\n",
    "        top_n=3\n",
    "    )\n",
    "    .compare(\n",
    "        method=\"linregress\",\n",
    "        min_samples_per_group=2,\n",
    "        comparisons=[(4, 6)]\n",
    "    )\n",
    "    .explain(\n",
    "        clf,\n",
    "        comparisons=[(4, 6)],\n",
    "        n_iterations=10,\n",
    "        downsample_background=True\n",
    "    )\n",
    "    .annotate()\n",
    ")\n",
    "\n",
    "enr = qm.enrich(\n",
    "    method=\"overreptest\",\n",
    "    libraries=['GO_Biological_Process_2023', 'KEGG_2021_Human', 'Reactome_2022'],\n",
    "    shap_column=\"MeanSHAP4-6\",\n",
    "    filter_shap=True\n",
    ")"
   ]
  }
 ],
 "metadata": {
  "kernelspec": {
   "display_name": "Python 3",
   "language": "python",
   "name": "python3"
  },
  "language_info": {
   "codemirror_mode": {
    "name": "ipython",
    "version": 2
   },
   "file_extension": ".py",
   "mimetype": "text/x-python",
   "name": "python",
   "nbconvert_exporter": "python",
   "pygments_lexer": "ipython2",
   "version": "2.7.6"
  }
 },
 "nbformat": 4,
 "nbformat_minor": 5
}
