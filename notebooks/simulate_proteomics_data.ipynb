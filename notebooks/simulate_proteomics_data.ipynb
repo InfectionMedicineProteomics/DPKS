{
 "cells": [
  {
   "cell_type": "code",
   "id": "initial_id",
   "metadata": {
    "collapsed": true,
    "ExecuteTime": {
     "end_time": "2025-04-24T13:39:00.113119Z",
     "start_time": "2025-04-24T13:39:00.110438Z"
    }
   },
   "source": [
    "import numpy as np\n",
    "import pandas as pd\n",
    "import seaborn as sns\n",
    "from scipy.stats import ttest_ind\n",
    "from statsmodels.stats.multitest import multipletests\n",
    "\n",
    "np.random.seed(42)"
   ],
   "outputs": [],
   "execution_count": 508
  },
  {
   "metadata": {
    "ExecuteTime": {
     "end_time": "2025-04-24T13:39:00.359480Z",
     "start_time": "2025-04-24T13:39:00.356707Z"
    }
   },
   "cell_type": "code",
   "source": [
    "n_proteins = 5000\n",
    "n_samples_per_group = 500\n",
    "total_samples = n_samples_per_group * 2"
   ],
   "id": "9e16450993c87d2",
   "outputs": [],
   "execution_count": 509
  },
  {
   "metadata": {
    "ExecuteTime": {
     "end_time": "2025-04-24T13:39:00.592959Z",
     "start_time": "2025-04-24T13:39:00.590893Z"
    }
   },
   "cell_type": "code",
   "source": [
    "# Generate protein IDs\n",
    "protein_ids = [f'Protein_{i+1}' for i in range(n_proteins)]"
   ],
   "id": "a83508fbc2168d8",
   "outputs": [],
   "execution_count": 510
  },
  {
   "metadata": {
    "ExecuteTime": {
     "end_time": "2025-04-24T13:39:00.839717Z",
     "start_time": "2025-04-24T13:39:00.833918Z"
    }
   },
   "cell_type": "code",
   "source": "data = np.zeros((n_proteins, total_samples))",
   "id": "1702b97362342e40",
   "outputs": [],
   "execution_count": 511
  },
  {
   "metadata": {
    "ExecuteTime": {
     "end_time": "2025-04-24T13:39:01.072627Z",
     "start_time": "2025-04-24T13:39:01.070639Z"
    }
   },
   "cell_type": "code",
   "source": [
    "idx_pval_lt_0_01 = np.arange(0, 100)\n",
    "idx_pval_0_01_to_0_1 = np.arange(100, 200)\n",
    "idx_non_significant = np.arange(200, n_proteins)"
   ],
   "id": "c6f5dc8888e46812",
   "outputs": [],
   "execution_count": 512
  },
  {
   "metadata": {
    "ExecuteTime": {
     "end_time": "2025-04-24T13:39:03.086616Z",
     "start_time": "2025-04-24T13:39:01.315002Z"
    }
   },
   "cell_type": "code",
   "source": [
    "counts = 0\n",
    "\n",
    "pvals_lt_0_01_counts = 0\n",
    "pvals_0_01_counts = 0\n",
    "\n",
    "pvals_lt_0_01 = []\n",
    "pvals_0_01_to_0_1 = []\n",
    "\n",
    "while counts < 200:\n",
    "\n",
    "    fc = np.random.uniform(0.01, 3.0)\n",
    "\n",
    "    loc = np.random.randint(8, 20)\n",
    "\n",
    "    scale = 0.5\n",
    "\n",
    "    group1 = np.random.normal(loc=loc, scale=scale, size=n_samples_per_group)\n",
    "    group2 = np.random.normal(loc=loc+fc, scale=scale, size=n_samples_per_group)\n",
    "\n",
    "    t_stat, p_val = ttest_ind(group1, group2, equal_var=False)\n",
    "\n",
    "    if (p_val <= 0.01) and pvals_lt_0_01_counts < 100:\n",
    "\n",
    "        pvals_lt_0_01.append(np.concatenate([group1, group2]))\n",
    "\n",
    "        pvals_lt_0_01_counts += 1\n",
    "        counts += 1\n",
    "\n",
    "    elif p_val > 0.01 and pvals_0_01_counts < 100:\n",
    "\n",
    "        pvals_0_01_to_0_1.append(np.concatenate([group1, group2]))\n",
    "        pvals_0_01_counts += 1\n",
    "        counts +=1\n"
   ],
   "id": "c7646c9c93565343",
   "outputs": [],
   "execution_count": 513
  },
  {
   "metadata": {
    "ExecuteTime": {
     "end_time": "2025-04-24T13:39:05.915517Z",
     "start_time": "2025-04-24T13:39:03.813118Z"
    }
   },
   "cell_type": "code",
   "source": [
    "num_pval_gt_0_1 = 0\n",
    "\n",
    "pvals_gt_0_1 = []\n",
    "\n",
    "while num_pval_gt_0_1 < n_proteins - 200:\n",
    "\n",
    "    fc = np.random.uniform(0.1, 0.2)\n",
    "\n",
    "    loc = np.random.randint(8, 20)\n",
    "\n",
    "    scale = 0.5\n",
    "\n",
    "    group1 = np.random.normal(loc=loc, scale=scale, size=n_samples_per_group)\n",
    "    group2 = np.random.normal(loc=loc, scale=scale, size=n_samples_per_group)\n",
    "\n",
    "    t_stat, p_val = ttest_ind(group1, group2, equal_var=False)\n",
    "\n",
    "    if p_val > 0.1:\n",
    "\n",
    "        pvals_gt_0_1.append(np.concatenate([group1, group2]))\n",
    "\n",
    "        num_pval_gt_0_1 += 1\n",
    "\n"
   ],
   "id": "f79d847e547a129a",
   "outputs": [],
   "execution_count": 514
  },
  {
   "metadata": {
    "ExecuteTime": {
     "end_time": "2025-04-24T13:39:06.498852Z",
     "start_time": "2025-04-24T13:39:06.484247Z"
    }
   },
   "cell_type": "code",
   "source": [
    "data = np.concatenate(\n",
    "    [\n",
    "        pvals_lt_0_01,\n",
    "        pvals_0_01_to_0_1,\n",
    "        pvals_gt_0_1,\n",
    "    ]\n",
    ")"
   ],
   "id": "ea817c379ec266e7",
   "outputs": [],
   "execution_count": 515
  },
  {
   "metadata": {
    "ExecuteTime": {
     "end_time": "2025-04-24T13:39:06.684784Z",
     "start_time": "2025-04-24T13:39:06.682456Z"
    }
   },
   "cell_type": "code",
   "source": "data",
   "id": "e78d1548e8c7b3fb",
   "outputs": [
    {
     "data": {
      "text/plain": [
       "array([[18.23693042, 18.68422506, 17.54158658, ..., 18.55662935,\n",
       "        19.16112632, 18.73963795],\n",
       "       [ 7.76444591,  8.53756214,  8.31605805, ..., 10.71924457,\n",
       "        11.25340818,  9.9289931 ],\n",
       "       [15.0902916 , 15.07261936, 14.69038177, ..., 14.79825427,\n",
       "        15.37763178, 15.10486481],\n",
       "       ...,\n",
       "       [15.45336487, 15.84066018, 17.07585866, ..., 16.63849352,\n",
       "        15.72238054, 15.48996411],\n",
       "       [10.27453193,  9.67709458,  9.93766369, ...,  9.98108398,\n",
       "         9.27009351, 10.74761286],\n",
       "       [13.10374516, 14.00623949, 14.62816365, ..., 14.57286259,\n",
       "        13.00019864, 14.13461744]])"
      ]
     },
     "execution_count": 516,
     "metadata": {},
     "output_type": "execute_result"
    }
   ],
   "execution_count": 516
  },
  {
   "metadata": {
    "ExecuteTime": {
     "end_time": "2025-04-24T13:39:07.035285Z",
     "start_time": "2025-04-24T13:39:07.026518Z"
    }
   },
   "cell_type": "code",
   "source": [
    "samples = [f'Sample_{i+1}' for i in range(total_samples)]\n",
    "df = pd.DataFrame(data, index=protein_ids, columns=samples)\n",
    "df = df.reset_index(names=\"Protein\")"
   ],
   "id": "5185a4b2d02060f5",
   "outputs": [],
   "execution_count": 517
  },
  {
   "metadata": {
    "ExecuteTime": {
     "end_time": "2025-04-24T13:39:07.209716Z",
     "start_time": "2025-04-24T13:39:07.208118Z"
    }
   },
   "cell_type": "code",
   "source": "group_labels = ['Group1'] * n_samples_per_group + ['Group2'] * n_samples_per_group",
   "id": "81f03b6c41cb60c2",
   "outputs": [],
   "execution_count": 518
  },
  {
   "metadata": {
    "ExecuteTime": {
     "end_time": "2025-04-24T13:39:07.456458Z",
     "start_time": "2025-04-24T13:39:07.454287Z"
    }
   },
   "cell_type": "code",
   "source": [
    "design_matrix = pd.DataFrame(\n",
    "    {\n",
    "        \"sample\": samples,\n",
    "        \"group\": group_labels,\n",
    "    }\n",
    ")"
   ],
   "id": "6ec5699ae26b0a5e",
   "outputs": [],
   "execution_count": 519
  },
  {
   "metadata": {
    "ExecuteTime": {
     "end_time": "2025-04-24T13:39:07.693083Z",
     "start_time": "2025-04-24T13:39:07.689824Z"
    }
   },
   "cell_type": "code",
   "source": [
    "design_matrix.to_csv(\n",
    "    \"../tests/input_files/simulated_design_matrix.tsv\",\n",
    "    sep=\"\\t\",\n",
    "    index=False,\n",
    ")"
   ],
   "id": "11ed314bcce69476",
   "outputs": [],
   "execution_count": 520
  },
  {
   "metadata": {
    "ExecuteTime": {
     "end_time": "2025-04-24T13:39:10.022697Z",
     "start_time": "2025-04-24T13:39:07.938594Z"
    }
   },
   "cell_type": "code",
   "source": [
    "df.to_csv(\n",
    "    \"../tests/input_files/simulated_proteins.tsv\",\n",
    "    sep=\"\\t\",\n",
    "    index=False,\n",
    ")"
   ],
   "id": "ad6da33ab772b099",
   "outputs": [],
   "execution_count": 521
  },
  {
   "metadata": {
    "ExecuteTime": {
     "end_time": "2025-04-24T13:39:10.042589Z",
     "start_time": "2025-04-24T13:39:10.024823Z"
    }
   },
   "cell_type": "code",
   "source": [
    "from dpks.quant_matrix import QuantMatrix\n",
    "\n",
    "quant_matrix = QuantMatrix(\n",
    "    quantification_file=df,\n",
    "    design_matrix_file=design_matrix,\n",
    ")"
   ],
   "id": "7cab3f39b1fbb07",
   "outputs": [],
   "execution_count": 522
  },
  {
   "metadata": {
    "ExecuteTime": {
     "end_time": "2025-04-24T13:39:15.004789Z",
     "start_time": "2025-04-24T13:39:10.052770Z"
    }
   },
   "cell_type": "code",
   "source": [
    "quant_matrix = quant_matrix.compare(\n",
    "    method=\"anova\",\n",
    "    comparisons=(\"Group2\", \"Group1\"),\n",
    "    min_samples_per_group=2,\n",
    "    level=\"protein\",\n",
    "    multiple_testing_correction_method=\"fdr_tsbh\",\n",
    ")"
   ],
   "id": "978473ad97de2d3b",
   "outputs": [
    {
     "name": "stderr",
     "output_type": "stream",
     "text": [
      "/Users/aaron/Documents/projects/dpks/DPKS/dpks/differential_testing.py:252: RuntimeWarning: divide by zero encountered in log10\n",
      "  quant_matrix.quantitative_data.obs[f\"-Log10CorrectedPValue{group_a}-{group_b}\"] = -np.log10(\n"
     ]
    }
   ],
   "execution_count": 523
  },
  {
   "metadata": {
    "ExecuteTime": {
     "end_time": "2025-04-24T13:39:15.016811Z",
     "start_time": "2025-04-24T13:39:15.015459Z"
    }
   },
   "cell_type": "code",
   "source": "da_df = quant_matrix.row_annotations",
   "id": "8e6f954d445abd10",
   "outputs": [],
   "execution_count": 524
  },
  {
   "metadata": {
    "ExecuteTime": {
     "end_time": "2025-04-24T13:39:15.031306Z",
     "start_time": "2025-04-24T13:39:15.026450Z"
    }
   },
   "cell_type": "code",
   "source": "da_df[da_df['CorrectedPValueGroup2-Group1'] <= 0.01]",
   "id": "be3b89f4921ed2b3",
   "outputs": [
    {
     "data": {
      "text/plain": [
       "        Protein  DEScoreGroup2-Group1  GroupGroup2Mean  GroupGroup1Mean  \\\n",
       "0     Protein_1              0.690516        19.178680        17.984686   \n",
       "1     Protein_2                   NaN        10.643232         8.033308   \n",
       "2     Protein_3              0.077352        15.245063        15.032649   \n",
       "3     Protein_4                   NaN        17.349499        14.986282   \n",
       "4     Protein_5              1.051978        10.623585         9.007066   \n",
       "..          ...                   ...              ...              ...   \n",
       "95   Protein_96                   NaN        18.610285        15.968884   \n",
       "96   Protein_97              1.146387        16.811516        15.024840   \n",
       "97   Protein_98                   NaN        19.212159        16.984888   \n",
       "98   Protein_99              0.841843        20.331290        18.976289   \n",
       "99  Protein_100              0.787337        18.267020        16.977483   \n",
       "\n",
       "    GroupGroup2Stdev  GroupGroup1Stdev  Log2FoldChangeGroup2-Group1  \\\n",
       "0           0.531972          0.515646                     1.193994   \n",
       "1           0.482864          0.516807                     2.609924   \n",
       "2           0.504583          0.499710                     0.212414   \n",
       "3           0.502714          0.517292                     2.363217   \n",
       "4           0.484373          0.481696                     1.616519   \n",
       "..               ...               ...                          ...   \n",
       "95          0.492833          0.507339                     2.641401   \n",
       "96          0.504333          0.485823                     1.786676   \n",
       "97          0.498890          0.491245                     2.227271   \n",
       "98          0.506654          0.488321                     1.355001   \n",
       "99          0.511389          0.493228                     1.289537   \n",
       "\n",
       "    PValueGroup2-Group1  GroupGroup2RepCounts  GroupGroup1RepCounts  \\\n",
       "0         1.414909e-182                   500                   500   \n",
       "1          0.000000e+00                   500                   500   \n",
       "2          3.921299e-11                   500                   500   \n",
       "3          0.000000e+00                   500                   500   \n",
       "4         1.452406e-291                   500                   500   \n",
       "..                  ...                   ...                   ...   \n",
       "95         0.000000e+00                   500                   500   \n",
       "96        4.429725e-316                   500                   500   \n",
       "97         0.000000e+00                   500                   500   \n",
       "98        1.678817e-229                   500                   500   \n",
       "99        3.476797e-213                   500                   500   \n",
       "\n",
       "    CorrectedPValueGroup2-Group1  -Log10CorrectedPValueGroup2-Group1  \n",
       "0                  1.155509e-180                          179.937227  \n",
       "1                   0.000000e+00                                 inf  \n",
       "2                   1.960649e-09                            8.707600  \n",
       "3                   0.000000e+00                                 inf  \n",
       "4                  1.617452e-289                          288.791169  \n",
       "..                           ...                                 ...  \n",
       "95                  0.000000e+00                                 inf  \n",
       "96                 5.712013e-314                          313.243211  \n",
       "97                  0.000000e+00                                 inf  \n",
       "98                 1.581962e-227                          226.800804  \n",
       "99                 3.154872e-211                          210.501018  \n",
       "\n",
       "[100 rows x 12 columns]"
      ],
      "text/html": [
       "<div>\n",
       "<style scoped>\n",
       "    .dataframe tbody tr th:only-of-type {\n",
       "        vertical-align: middle;\n",
       "    }\n",
       "\n",
       "    .dataframe tbody tr th {\n",
       "        vertical-align: top;\n",
       "    }\n",
       "\n",
       "    .dataframe thead th {\n",
       "        text-align: right;\n",
       "    }\n",
       "</style>\n",
       "<table border=\"1\" class=\"dataframe\">\n",
       "  <thead>\n",
       "    <tr style=\"text-align: right;\">\n",
       "      <th></th>\n",
       "      <th>Protein</th>\n",
       "      <th>DEScoreGroup2-Group1</th>\n",
       "      <th>GroupGroup2Mean</th>\n",
       "      <th>GroupGroup1Mean</th>\n",
       "      <th>GroupGroup2Stdev</th>\n",
       "      <th>GroupGroup1Stdev</th>\n",
       "      <th>Log2FoldChangeGroup2-Group1</th>\n",
       "      <th>PValueGroup2-Group1</th>\n",
       "      <th>GroupGroup2RepCounts</th>\n",
       "      <th>GroupGroup1RepCounts</th>\n",
       "      <th>CorrectedPValueGroup2-Group1</th>\n",
       "      <th>-Log10CorrectedPValueGroup2-Group1</th>\n",
       "    </tr>\n",
       "  </thead>\n",
       "  <tbody>\n",
       "    <tr>\n",
       "      <th>0</th>\n",
       "      <td>Protein_1</td>\n",
       "      <td>0.690516</td>\n",
       "      <td>19.178680</td>\n",
       "      <td>17.984686</td>\n",
       "      <td>0.531972</td>\n",
       "      <td>0.515646</td>\n",
       "      <td>1.193994</td>\n",
       "      <td>1.414909e-182</td>\n",
       "      <td>500</td>\n",
       "      <td>500</td>\n",
       "      <td>1.155509e-180</td>\n",
       "      <td>179.937227</td>\n",
       "    </tr>\n",
       "    <tr>\n",
       "      <th>1</th>\n",
       "      <td>Protein_2</td>\n",
       "      <td>NaN</td>\n",
       "      <td>10.643232</td>\n",
       "      <td>8.033308</td>\n",
       "      <td>0.482864</td>\n",
       "      <td>0.516807</td>\n",
       "      <td>2.609924</td>\n",
       "      <td>0.000000e+00</td>\n",
       "      <td>500</td>\n",
       "      <td>500</td>\n",
       "      <td>0.000000e+00</td>\n",
       "      <td>inf</td>\n",
       "    </tr>\n",
       "    <tr>\n",
       "      <th>2</th>\n",
       "      <td>Protein_3</td>\n",
       "      <td>0.077352</td>\n",
       "      <td>15.245063</td>\n",
       "      <td>15.032649</td>\n",
       "      <td>0.504583</td>\n",
       "      <td>0.499710</td>\n",
       "      <td>0.212414</td>\n",
       "      <td>3.921299e-11</td>\n",
       "      <td>500</td>\n",
       "      <td>500</td>\n",
       "      <td>1.960649e-09</td>\n",
       "      <td>8.707600</td>\n",
       "    </tr>\n",
       "    <tr>\n",
       "      <th>3</th>\n",
       "      <td>Protein_4</td>\n",
       "      <td>NaN</td>\n",
       "      <td>17.349499</td>\n",
       "      <td>14.986282</td>\n",
       "      <td>0.502714</td>\n",
       "      <td>0.517292</td>\n",
       "      <td>2.363217</td>\n",
       "      <td>0.000000e+00</td>\n",
       "      <td>500</td>\n",
       "      <td>500</td>\n",
       "      <td>0.000000e+00</td>\n",
       "      <td>inf</td>\n",
       "    </tr>\n",
       "    <tr>\n",
       "      <th>4</th>\n",
       "      <td>Protein_5</td>\n",
       "      <td>1.051978</td>\n",
       "      <td>10.623585</td>\n",
       "      <td>9.007066</td>\n",
       "      <td>0.484373</td>\n",
       "      <td>0.481696</td>\n",
       "      <td>1.616519</td>\n",
       "      <td>1.452406e-291</td>\n",
       "      <td>500</td>\n",
       "      <td>500</td>\n",
       "      <td>1.617452e-289</td>\n",
       "      <td>288.791169</td>\n",
       "    </tr>\n",
       "    <tr>\n",
       "      <th>...</th>\n",
       "      <td>...</td>\n",
       "      <td>...</td>\n",
       "      <td>...</td>\n",
       "      <td>...</td>\n",
       "      <td>...</td>\n",
       "      <td>...</td>\n",
       "      <td>...</td>\n",
       "      <td>...</td>\n",
       "      <td>...</td>\n",
       "      <td>...</td>\n",
       "      <td>...</td>\n",
       "      <td>...</td>\n",
       "    </tr>\n",
       "    <tr>\n",
       "      <th>95</th>\n",
       "      <td>Protein_96</td>\n",
       "      <td>NaN</td>\n",
       "      <td>18.610285</td>\n",
       "      <td>15.968884</td>\n",
       "      <td>0.492833</td>\n",
       "      <td>0.507339</td>\n",
       "      <td>2.641401</td>\n",
       "      <td>0.000000e+00</td>\n",
       "      <td>500</td>\n",
       "      <td>500</td>\n",
       "      <td>0.000000e+00</td>\n",
       "      <td>inf</td>\n",
       "    </tr>\n",
       "    <tr>\n",
       "      <th>96</th>\n",
       "      <td>Protein_97</td>\n",
       "      <td>1.146387</td>\n",
       "      <td>16.811516</td>\n",
       "      <td>15.024840</td>\n",
       "      <td>0.504333</td>\n",
       "      <td>0.485823</td>\n",
       "      <td>1.786676</td>\n",
       "      <td>4.429725e-316</td>\n",
       "      <td>500</td>\n",
       "      <td>500</td>\n",
       "      <td>5.712013e-314</td>\n",
       "      <td>313.243211</td>\n",
       "    </tr>\n",
       "    <tr>\n",
       "      <th>97</th>\n",
       "      <td>Protein_98</td>\n",
       "      <td>NaN</td>\n",
       "      <td>19.212159</td>\n",
       "      <td>16.984888</td>\n",
       "      <td>0.498890</td>\n",
       "      <td>0.491245</td>\n",
       "      <td>2.227271</td>\n",
       "      <td>0.000000e+00</td>\n",
       "      <td>500</td>\n",
       "      <td>500</td>\n",
       "      <td>0.000000e+00</td>\n",
       "      <td>inf</td>\n",
       "    </tr>\n",
       "    <tr>\n",
       "      <th>98</th>\n",
       "      <td>Protein_99</td>\n",
       "      <td>0.841843</td>\n",
       "      <td>20.331290</td>\n",
       "      <td>18.976289</td>\n",
       "      <td>0.506654</td>\n",
       "      <td>0.488321</td>\n",
       "      <td>1.355001</td>\n",
       "      <td>1.678817e-229</td>\n",
       "      <td>500</td>\n",
       "      <td>500</td>\n",
       "      <td>1.581962e-227</td>\n",
       "      <td>226.800804</td>\n",
       "    </tr>\n",
       "    <tr>\n",
       "      <th>99</th>\n",
       "      <td>Protein_100</td>\n",
       "      <td>0.787337</td>\n",
       "      <td>18.267020</td>\n",
       "      <td>16.977483</td>\n",
       "      <td>0.511389</td>\n",
       "      <td>0.493228</td>\n",
       "      <td>1.289537</td>\n",
       "      <td>3.476797e-213</td>\n",
       "      <td>500</td>\n",
       "      <td>500</td>\n",
       "      <td>3.154872e-211</td>\n",
       "      <td>210.501018</td>\n",
       "    </tr>\n",
       "  </tbody>\n",
       "</table>\n",
       "<p>100 rows × 12 columns</p>\n",
       "</div>"
      ]
     },
     "execution_count": 525,
     "metadata": {},
     "output_type": "execute_result"
    }
   ],
   "execution_count": 525
  },
  {
   "metadata": {
    "ExecuteTime": {
     "end_time": "2025-04-24T13:39:15.055060Z",
     "start_time": "2025-04-24T13:39:15.051556Z"
    }
   },
   "cell_type": "code",
   "source": "da_df[da_df['Protein'] == \"Protein_101\"]",
   "id": "dc16ca3d4578d47e",
   "outputs": [
    {
     "data": {
      "text/plain": [
       "         Protein  DEScoreGroup2-Group1  GroupGroup2Mean  GroupGroup1Mean  \\\n",
       "100  Protein_101              0.026213        14.089278        14.011907   \n",
       "\n",
       "     GroupGroup2Stdev  GroupGroup1Stdev  Log2FoldChangeGroup2-Group1  \\\n",
       "100          0.506802          0.492208                     0.077372   \n",
       "\n",
       "     PValueGroup2-Group1  GroupGroup2RepCounts  GroupGroup1RepCounts  \\\n",
       "100               0.0146                   500                   500   \n",
       "\n",
       "     CorrectedPValueGroup2-Group1  -Log10CorrectedPValueGroup2-Group1  \n",
       "100                      0.671571                            0.172908  "
      ],
      "text/html": [
       "<div>\n",
       "<style scoped>\n",
       "    .dataframe tbody tr th:only-of-type {\n",
       "        vertical-align: middle;\n",
       "    }\n",
       "\n",
       "    .dataframe tbody tr th {\n",
       "        vertical-align: top;\n",
       "    }\n",
       "\n",
       "    .dataframe thead th {\n",
       "        text-align: right;\n",
       "    }\n",
       "</style>\n",
       "<table border=\"1\" class=\"dataframe\">\n",
       "  <thead>\n",
       "    <tr style=\"text-align: right;\">\n",
       "      <th></th>\n",
       "      <th>Protein</th>\n",
       "      <th>DEScoreGroup2-Group1</th>\n",
       "      <th>GroupGroup2Mean</th>\n",
       "      <th>GroupGroup1Mean</th>\n",
       "      <th>GroupGroup2Stdev</th>\n",
       "      <th>GroupGroup1Stdev</th>\n",
       "      <th>Log2FoldChangeGroup2-Group1</th>\n",
       "      <th>PValueGroup2-Group1</th>\n",
       "      <th>GroupGroup2RepCounts</th>\n",
       "      <th>GroupGroup1RepCounts</th>\n",
       "      <th>CorrectedPValueGroup2-Group1</th>\n",
       "      <th>-Log10CorrectedPValueGroup2-Group1</th>\n",
       "    </tr>\n",
       "  </thead>\n",
       "  <tbody>\n",
       "    <tr>\n",
       "      <th>100</th>\n",
       "      <td>Protein_101</td>\n",
       "      <td>0.026213</td>\n",
       "      <td>14.089278</td>\n",
       "      <td>14.011907</td>\n",
       "      <td>0.506802</td>\n",
       "      <td>0.492208</td>\n",
       "      <td>0.077372</td>\n",
       "      <td>0.0146</td>\n",
       "      <td>500</td>\n",
       "      <td>500</td>\n",
       "      <td>0.671571</td>\n",
       "      <td>0.172908</td>\n",
       "    </tr>\n",
       "  </tbody>\n",
       "</table>\n",
       "</div>"
      ]
     },
     "execution_count": 526,
     "metadata": {},
     "output_type": "execute_result"
    }
   ],
   "execution_count": 526
  },
  {
   "metadata": {
    "ExecuteTime": {
     "end_time": "2025-04-24T13:39:15.084403Z",
     "start_time": "2025-04-24T13:39:15.079362Z"
    }
   },
   "cell_type": "code",
   "source": "da_df.sort_values(by=\"CorrectedPValueGroup2-Group1\", ascending=True)",
   "id": "b3130ec0e594d86",
   "outputs": [
    {
     "data": {
      "text/plain": [
       "           Protein  DEScoreGroup2-Group1  GroupGroup2Mean  GroupGroup1Mean  \\\n",
       "29      Protein_30                   NaN        13.122538        11.008827   \n",
       "89      Protein_90                   NaN        18.380292        16.004745   \n",
       "26      Protein_27                   NaN        19.984103        16.992685   \n",
       "28      Protein_29                   NaN        16.920175        14.053346   \n",
       "33      Protein_34                   NaN        15.971082        12.946519   \n",
       "...            ...                   ...              ...              ...   \n",
       "407    Protein_408              0.000026         9.016944         9.016865   \n",
       "3328  Protein_3329              0.000022         9.974827         9.974894   \n",
       "4353  Protein_4354              0.000011        10.982342        10.982309   \n",
       "1565  Protein_1566              0.000009         8.982604         8.982576   \n",
       "896    Protein_897              0.000007        13.996470        13.996491   \n",
       "\n",
       "      GroupGroup2Stdev  GroupGroup1Stdev  Log2FoldChangeGroup2-Group1  \\\n",
       "29            0.480137          0.504678                     2.113711   \n",
       "89            0.499137          0.476360                     2.375547   \n",
       "26            0.529261          0.518163                     2.991419   \n",
       "28            0.499337          0.489455                     2.866829   \n",
       "33            0.508929          0.478427                     3.024564   \n",
       "...                ...               ...                          ...   \n",
       "407           0.527657          0.496671                     0.000079   \n",
       "3328          0.498100          0.506196                    -0.000067   \n",
       "4353          0.503882          0.504706                     0.000033   \n",
       "1565          0.510904          0.517841                     0.000028   \n",
       "896           0.466491          0.526873                    -0.000021   \n",
       "\n",
       "      PValueGroup2-Group1  GroupGroup2RepCounts  GroupGroup1RepCounts  \\\n",
       "29               0.000000                   500                   500   \n",
       "89               0.000000                   500                   500   \n",
       "26               0.000000                   500                   500   \n",
       "28               0.000000                   500                   500   \n",
       "33               0.000000                   500                   500   \n",
       "...                   ...                   ...                   ...   \n",
       "407              0.998067                   500                   500   \n",
       "3328             0.998314                   500                   500   \n",
       "4353             0.999166                   500                   500   \n",
       "1565             0.999324                   500                   500   \n",
       "896              0.999466                   500                   500   \n",
       "\n",
       "      CorrectedPValueGroup2-Group1  -Log10CorrectedPValueGroup2-Group1  \n",
       "29                        0.000000                                 inf  \n",
       "89                        0.000000                                 inf  \n",
       "26                        0.000000                                 inf  \n",
       "28                        0.000000                                 inf  \n",
       "33                        0.000000                                 inf  \n",
       "...                            ...                                 ...  \n",
       "407                       0.978889                            0.009266  \n",
       "3328                      0.978935                            0.009246  \n",
       "4353                      0.979477                            0.009006  \n",
       "1565                      0.979477                            0.009006  \n",
       "896                       0.979477                            0.009006  \n",
       "\n",
       "[5000 rows x 12 columns]"
      ],
      "text/html": [
       "<div>\n",
       "<style scoped>\n",
       "    .dataframe tbody tr th:only-of-type {\n",
       "        vertical-align: middle;\n",
       "    }\n",
       "\n",
       "    .dataframe tbody tr th {\n",
       "        vertical-align: top;\n",
       "    }\n",
       "\n",
       "    .dataframe thead th {\n",
       "        text-align: right;\n",
       "    }\n",
       "</style>\n",
       "<table border=\"1\" class=\"dataframe\">\n",
       "  <thead>\n",
       "    <tr style=\"text-align: right;\">\n",
       "      <th></th>\n",
       "      <th>Protein</th>\n",
       "      <th>DEScoreGroup2-Group1</th>\n",
       "      <th>GroupGroup2Mean</th>\n",
       "      <th>GroupGroup1Mean</th>\n",
       "      <th>GroupGroup2Stdev</th>\n",
       "      <th>GroupGroup1Stdev</th>\n",
       "      <th>Log2FoldChangeGroup2-Group1</th>\n",
       "      <th>PValueGroup2-Group1</th>\n",
       "      <th>GroupGroup2RepCounts</th>\n",
       "      <th>GroupGroup1RepCounts</th>\n",
       "      <th>CorrectedPValueGroup2-Group1</th>\n",
       "      <th>-Log10CorrectedPValueGroup2-Group1</th>\n",
       "    </tr>\n",
       "  </thead>\n",
       "  <tbody>\n",
       "    <tr>\n",
       "      <th>29</th>\n",
       "      <td>Protein_30</td>\n",
       "      <td>NaN</td>\n",
       "      <td>13.122538</td>\n",
       "      <td>11.008827</td>\n",
       "      <td>0.480137</td>\n",
       "      <td>0.504678</td>\n",
       "      <td>2.113711</td>\n",
       "      <td>0.000000</td>\n",
       "      <td>500</td>\n",
       "      <td>500</td>\n",
       "      <td>0.000000</td>\n",
       "      <td>inf</td>\n",
       "    </tr>\n",
       "    <tr>\n",
       "      <th>89</th>\n",
       "      <td>Protein_90</td>\n",
       "      <td>NaN</td>\n",
       "      <td>18.380292</td>\n",
       "      <td>16.004745</td>\n",
       "      <td>0.499137</td>\n",
       "      <td>0.476360</td>\n",
       "      <td>2.375547</td>\n",
       "      <td>0.000000</td>\n",
       "      <td>500</td>\n",
       "      <td>500</td>\n",
       "      <td>0.000000</td>\n",
       "      <td>inf</td>\n",
       "    </tr>\n",
       "    <tr>\n",
       "      <th>26</th>\n",
       "      <td>Protein_27</td>\n",
       "      <td>NaN</td>\n",
       "      <td>19.984103</td>\n",
       "      <td>16.992685</td>\n",
       "      <td>0.529261</td>\n",
       "      <td>0.518163</td>\n",
       "      <td>2.991419</td>\n",
       "      <td>0.000000</td>\n",
       "      <td>500</td>\n",
       "      <td>500</td>\n",
       "      <td>0.000000</td>\n",
       "      <td>inf</td>\n",
       "    </tr>\n",
       "    <tr>\n",
       "      <th>28</th>\n",
       "      <td>Protein_29</td>\n",
       "      <td>NaN</td>\n",
       "      <td>16.920175</td>\n",
       "      <td>14.053346</td>\n",
       "      <td>0.499337</td>\n",
       "      <td>0.489455</td>\n",
       "      <td>2.866829</td>\n",
       "      <td>0.000000</td>\n",
       "      <td>500</td>\n",
       "      <td>500</td>\n",
       "      <td>0.000000</td>\n",
       "      <td>inf</td>\n",
       "    </tr>\n",
       "    <tr>\n",
       "      <th>33</th>\n",
       "      <td>Protein_34</td>\n",
       "      <td>NaN</td>\n",
       "      <td>15.971082</td>\n",
       "      <td>12.946519</td>\n",
       "      <td>0.508929</td>\n",
       "      <td>0.478427</td>\n",
       "      <td>3.024564</td>\n",
       "      <td>0.000000</td>\n",
       "      <td>500</td>\n",
       "      <td>500</td>\n",
       "      <td>0.000000</td>\n",
       "      <td>inf</td>\n",
       "    </tr>\n",
       "    <tr>\n",
       "      <th>...</th>\n",
       "      <td>...</td>\n",
       "      <td>...</td>\n",
       "      <td>...</td>\n",
       "      <td>...</td>\n",
       "      <td>...</td>\n",
       "      <td>...</td>\n",
       "      <td>...</td>\n",
       "      <td>...</td>\n",
       "      <td>...</td>\n",
       "      <td>...</td>\n",
       "      <td>...</td>\n",
       "      <td>...</td>\n",
       "    </tr>\n",
       "    <tr>\n",
       "      <th>407</th>\n",
       "      <td>Protein_408</td>\n",
       "      <td>0.000026</td>\n",
       "      <td>9.016944</td>\n",
       "      <td>9.016865</td>\n",
       "      <td>0.527657</td>\n",
       "      <td>0.496671</td>\n",
       "      <td>0.000079</td>\n",
       "      <td>0.998067</td>\n",
       "      <td>500</td>\n",
       "      <td>500</td>\n",
       "      <td>0.978889</td>\n",
       "      <td>0.009266</td>\n",
       "    </tr>\n",
       "    <tr>\n",
       "      <th>3328</th>\n",
       "      <td>Protein_3329</td>\n",
       "      <td>0.000022</td>\n",
       "      <td>9.974827</td>\n",
       "      <td>9.974894</td>\n",
       "      <td>0.498100</td>\n",
       "      <td>0.506196</td>\n",
       "      <td>-0.000067</td>\n",
       "      <td>0.998314</td>\n",
       "      <td>500</td>\n",
       "      <td>500</td>\n",
       "      <td>0.978935</td>\n",
       "      <td>0.009246</td>\n",
       "    </tr>\n",
       "    <tr>\n",
       "      <th>4353</th>\n",
       "      <td>Protein_4354</td>\n",
       "      <td>0.000011</td>\n",
       "      <td>10.982342</td>\n",
       "      <td>10.982309</td>\n",
       "      <td>0.503882</td>\n",
       "      <td>0.504706</td>\n",
       "      <td>0.000033</td>\n",
       "      <td>0.999166</td>\n",
       "      <td>500</td>\n",
       "      <td>500</td>\n",
       "      <td>0.979477</td>\n",
       "      <td>0.009006</td>\n",
       "    </tr>\n",
       "    <tr>\n",
       "      <th>1565</th>\n",
       "      <td>Protein_1566</td>\n",
       "      <td>0.000009</td>\n",
       "      <td>8.982604</td>\n",
       "      <td>8.982576</td>\n",
       "      <td>0.510904</td>\n",
       "      <td>0.517841</td>\n",
       "      <td>0.000028</td>\n",
       "      <td>0.999324</td>\n",
       "      <td>500</td>\n",
       "      <td>500</td>\n",
       "      <td>0.979477</td>\n",
       "      <td>0.009006</td>\n",
       "    </tr>\n",
       "    <tr>\n",
       "      <th>896</th>\n",
       "      <td>Protein_897</td>\n",
       "      <td>0.000007</td>\n",
       "      <td>13.996470</td>\n",
       "      <td>13.996491</td>\n",
       "      <td>0.466491</td>\n",
       "      <td>0.526873</td>\n",
       "      <td>-0.000021</td>\n",
       "      <td>0.999466</td>\n",
       "      <td>500</td>\n",
       "      <td>500</td>\n",
       "      <td>0.979477</td>\n",
       "      <td>0.009006</td>\n",
       "    </tr>\n",
       "  </tbody>\n",
       "</table>\n",
       "<p>5000 rows × 12 columns</p>\n",
       "</div>"
      ]
     },
     "execution_count": 527,
     "metadata": {},
     "output_type": "execute_result"
    }
   ],
   "execution_count": 527
  },
  {
   "metadata": {
    "ExecuteTime": {
     "end_time": "2025-04-24T13:39:15.119798Z",
     "start_time": "2025-04-24T13:39:15.116734Z"
    }
   },
   "cell_type": "code",
   "source": "da_df['ProteinNum'] = da_df['Protein'].str.split(\"_\").str[-1].astype(int)",
   "id": "4ab5ddc1ad5627f4",
   "outputs": [],
   "execution_count": 528
  },
  {
   "metadata": {
    "ExecuteTime": {
     "end_time": "2025-04-24T13:39:15.143298Z",
     "start_time": "2025-04-24T13:39:15.141595Z"
    }
   },
   "cell_type": "code",
   "source": "da_df['DAType'] = np.where(da_df['ProteinNum'] <= 100, 1, np.where(da_df['ProteinNum'] < 200, 2, 0))",
   "id": "9c22b344167d60d3",
   "outputs": [],
   "execution_count": 529
  },
  {
   "metadata": {
    "ExecuteTime": {
     "end_time": "2025-04-24T13:39:15.282907Z",
     "start_time": "2025-04-24T13:39:15.164134Z"
    }
   },
   "cell_type": "code",
   "source": [
    "sns.scatterplot(\n",
    "    data=da_df,\n",
    "    x=\"Log2FoldChangeGroup2-Group1\",\n",
    "    y=\"-Log10CorrectedPValueGroup2-Group1\",\n",
    "    hue=\"DAType\",\n",
    "    palette=\"Set1\",\n",
    ")"
   ],
   "id": "232a8918ed55b84a",
   "outputs": [
    {
     "data": {
      "text/plain": [
       "<Axes: xlabel='Log2FoldChangeGroup2-Group1', ylabel='-Log10CorrectedPValueGroup2-Group1'>"
      ]
     },
     "execution_count": 530,
     "metadata": {},
     "output_type": "execute_result"
    },
    {
     "data": {
      "text/plain": [
       "<Figure size 640x480 with 1 Axes>"
      ],
      "image/png": "[encoded data removed]"
     },
     "metadata": {},
     "output_type": "display_data"
    }
   ],
   "execution_count": 530
  },
  {
   "metadata": {
    "ExecuteTime": {
     "end_time": "2025-04-24T13:39:15.308566Z",
     "start_time": "2025-04-24T13:39:15.306628Z"
    }
   },
   "cell_type": "code",
   "source": "quant_matrix.quantitative_data.X",
   "id": "293bbc9fd90a4cac",
   "outputs": [
    {
     "data": {
      "text/plain": [
       "array([[18.23693042, 18.68422506, 17.54158658, ..., 18.55662935,\n",
       "        19.16112632, 18.73963795],\n",
       "       [ 7.76444591,  8.53756214,  8.31605805, ..., 10.71924457,\n",
       "        11.25340818,  9.9289931 ],\n",
       "       [15.0902916 , 15.07261936, 14.69038177, ..., 14.79825427,\n",
       "        15.37763178, 15.10486481],\n",
       "       ...,\n",
       "       [15.45336487, 15.84066018, 17.07585866, ..., 16.63849352,\n",
       "        15.72238054, 15.48996411],\n",
       "       [10.27453193,  9.67709458,  9.93766369, ...,  9.98108398,\n",
       "         9.27009351, 10.74761286],\n",
       "       [13.10374516, 14.00623949, 14.62816365, ..., 14.57286259,\n",
       "        13.00019864, 14.13461744]])"
      ]
     },
     "execution_count": 531,
     "metadata": {},
     "output_type": "execute_result"
    }
   ],
   "execution_count": 531
  },
  {
   "metadata": {
    "ExecuteTime": {
     "end_time": "2025-04-24T13:36:49.886874Z",
     "start_time": "2025-04-24T13:36:49.841824Z"
    }
   },
   "cell_type": "code",
   "source": [
    "mu, sigma = 10, 0.3 # mean and standard deviation\n",
    "s = np.random.normal(mu, sigma, 1000)\n",
    "\n",
    "import matplotlib.pyplot as plt\n",
    "count, bins, ignored = plt.hist(s, 30, density=True)\n",
    "plt.plot(bins, 1/(sigma * np.sqrt(2 * np.pi)) *\n",
    "               np.exp( - (bins - mu)**2 / (2 * sigma**2) ),\n",
    "         linewidth=2, color='r')\n",
    "\n",
    "\n",
    "mu, sigma = 9, 0.5 # mean and standard deviation\n",
    "s = np.random.normal(mu, sigma, 1000)\n",
    "count, bins, ignored = plt.hist(s, 30, density=True, color='g')\n",
    "plt.plot(bins, 1/(sigma * np.sqrt(2 * np.pi)) *\n",
    "               np.exp( - (bins - mu)**2 / (2 * sigma**2) ),\n",
    "         linewidth=2, color='r')\n",
    "plt.show()"
   ],
   "id": "f97196494f3703fe",
   "outputs": [
    {
     "data": {
      "text/plain": [
       "<Figure size 640x480 with 1 Axes>"
      ],
      "image/png": "[encoded data removed]"
     },
     "metadata": {},
     "output_type": "display_data"
    }
   ],
   "execution_count": 459
  },
  {
   "metadata": {
    "ExecuteTime": {
     "end_time": "2025-04-24T13:36:49.909344Z",
     "start_time": "2025-04-24T13:36:49.907922Z"
    }
   },
   "cell_type": "code",
   "source": "",
   "id": "8825ceb398c51a89",
   "outputs": [],
   "execution_count": null
  },
  {
   "metadata": {},
   "cell_type": "code",
   "outputs": [],
   "execution_count": null,
   "source": "",
   "id": "5ec1b1fdb6fd65ff"
  }
 ],
 "metadata": {
  "kernelspec": {
   "display_name": "Python 3",
   "language": "python",
   "name": "python3"
  },
  "language_info": {
   "codemirror_mode": {
    "name": "ipython",
    "version": 2
   },
   "file_extension": ".py",
   "mimetype": "text/x-python",
   "name": "python",
   "nbconvert_exporter": "python",
   "pygments_lexer": "ipython2",
   "version": "2.7.6"
  }
 },
 "nbformat": 4,
 "nbformat_minor": 5
}
