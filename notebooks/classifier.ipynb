{
 "cells": [
  {
   "cell_type": "code",
   "execution_count": 1,
   "metadata": {},
   "outputs": [
    {
     "name": "stderr",
     "output_type": "stream",
     "text": [
      "/home/erikh/dpks/test-venv/lib/python3.9/site-packages/tqdm/auto.py:22: TqdmWarning: IProgress not found. Please update jupyter and ipywidgets. See https://ipywidgets.readthedocs.io/en/stable/user_install.html\n",
      "  from .autonotebook import tqdm as notebook_tqdm\n"
     ]
    }
   ],
   "source": [
    "from dpks.quant_matrix import QuantMatrix"
   ]
  },
  {
   "cell_type": "code",
   "execution_count": 2,
   "metadata": {},
   "outputs": [],
   "source": [
    "qm = QuantMatrix(\n",
    "    quantification_file=\"../tests/input_files/data_sepsis.tsv\",\n",
    "    design_matrix_file=\"../tests/input_files/design_sepsis.tsv\")"
   ]
  },
  {
   "cell_type": "code",
   "execution_count": 3,
   "metadata": {},
   "outputs": [],
   "source": [
    "quantified_data = (\n",
    "    qm.normalize(\n",
    "        method=\"mean\",\n",
    "    )\n",
    "    .quantify(method=\"top_n\")\n",
    ")"
   ]
  },
  {
   "cell_type": "code",
   "execution_count": 4,
   "metadata": {},
   "outputs": [],
   "source": [
    "from sklearn.preprocessing import LabelEncoder, StandardScaler\n",
    "import numpy as np\n",
    "\n",
    "def _generate_data_matrices(\n",
    "     quantitative_data: QuantMatrix, scale: bool\n",
    ") -> tuple:\n",
    "    le = LabelEncoder()\n",
    "    Y = le.fit_transform(quantitative_data.quantitative_data.var[\"group\"].values)\n",
    "    X = quantitative_data.quantitative_data.X.copy().transpose()\n",
    "    X = np.nan_to_num(X, copy=True, nan=0.0)\n",
    "    if scale:\n",
    "        X = StandardScaler().fit_transform(X)\n",
    "    return X, Y\n",
    "\n",
    "scale = True\n",
    "X, y = _generate_data_matrices(quantified_data, scale)"
   ]
  },
  {
   "cell_type": "code",
   "execution_count": 5,
   "metadata": {},
   "outputs": [],
   "source": [
    "param_grid = {\n",
    "        'min_child_weight': [0.01, 0.1, 0.5, 1, 5, 10, 25],\n",
    "        'gamma': [0.1, 0.5, 1, 1.5, 2, 5, 7, 10],\n",
    "    'subsample': [0.5, 0.6, 0.7, 0.8, 0.9, 1.0],\n",
    "        'colsample_bytree': [0.1, 0.2, 0.4, 0.6, 0.8, 1.0],\n",
    "        'max_depth': [2, 3, 4, 5, 6, 7,8,9,10,12,15,20],\n",
    "        'max_leaves': [1, 2,3,4,5,6,7,8,9,10,15,20,25,30],\n",
    "        \"learning_rate\": [0.0001,0.001, 0.01, 0.1, 1],\n",
    "        \"reg_alpha\": [1e-10, 1e-7, 1e-6, 1e-5, 1e-2, 0.1, 1, 10, 15, 20,40, 60, 100],\n",
    "        \"reg_lambda\": [1e-5, 1e-2, 0.1, 1, 5, 15, 20, 25, 100],\n",
    "    'n_estimators': [50, 100, 200, 300, 400, 500, 600, 1000],\n",
    "    'scale_pos_weight': [1, 3, 5, 7, 10, 15]\n",
    "        }\n"
   ]
  },
  {
   "cell_type": "code",
   "execution_count": 6,
   "metadata": {},
   "outputs": [],
   "source": [
    "from sklearn.model_selection import cross_val_score\n",
    "import xgboost\n",
    "\n",
    "clf = xgboost.XGBClassifier(\n",
    "\n",
    "                )"
   ]
  },
  {
   "cell_type": "code",
   "execution_count": 12,
   "metadata": {},
   "outputs": [
    {
     "name": "stdout",
     "output_type": "stream",
     "text": [
      "Generation 0\n",
      "Accuracy 0.7976396391186803\n",
      "Best param {'min_child_weight': 0.1, 'gamma': 0.1, 'subsample': 0.6, 'colsample_bytree': 0.4, 'max_depth': 3, 'max_leaves': 15, 'learning_rate': 0.01, 'reg_alpha': 0.01, 'reg_lambda': 0.01, 'n_estimators': 200, 'scale_pos_weight': 7}\n",
      "Generation 1\n",
      "Accuracy 0.7976767279469519\n",
      "Best param {'min_child_weight': 0.1, 'gamma': 0.1, 'subsample': 0.6, 'colsample_bytree': 0.4, 'max_depth': 3, 'max_leaves': 15, 'learning_rate': 0.01, 'reg_alpha': 0.01, 'reg_lambda': 0.01, 'n_estimators': 200, 'scale_pos_weight': 7}\n",
      "Generation 2\n",
      "Accuracy 0.7976051782074891\n",
      "Best param {'min_child_weight': 0.1, 'gamma': 0.1, 'subsample': 0.6, 'colsample_bytree': 0.4, 'max_depth': 3, 'max_leaves': 15, 'learning_rate': 0.01, 'reg_alpha': 0.01, 'reg_lambda': 0.01, 'n_estimators': 200, 'scale_pos_weight': 7}\n",
      "Generation 3\n",
      "Accuracy 0.8074419017851191\n",
      "Best param {'min_child_weight': 1, 'gamma': 0.1, 'subsample': 0.6, 'colsample_bytree': 0.6, 'max_depth': 6, 'max_leaves': 15, 'learning_rate': 0.01, 'reg_alpha': 1, 'reg_lambda': 1, 'n_estimators': 500, 'scale_pos_weight': 10}\n",
      "Generation 4\n",
      "Accuracy 0.8071393410040869\n",
      "Best param {'min_child_weight': 1, 'gamma': 0.1, 'subsample': 0.6, 'colsample_bytree': 0.6, 'max_depth': 6, 'max_leaves': 15, 'learning_rate': 0.01, 'reg_alpha': 1, 'reg_lambda': 1, 'n_estimators': 500, 'scale_pos_weight': 10}\n",
      "Generation 5\n",
      "Accuracy 0.8276600516924376\n",
      "Best param {'min_child_weight': 0.1, 'gamma': 1.5, 'subsample': 0.7, 'colsample_bytree': 0.1, 'max_depth': 20, 'max_leaves': 20, 'learning_rate': 0.1, 'reg_alpha': 1e-07, 'reg_lambda': 20, 'n_estimators': 400, 'scale_pos_weight': 3}\n",
      "Generation 6\n",
      "Accuracy 0.8271923938225805\n",
      "Best param {'min_child_weight': 0.1, 'gamma': 1.5, 'subsample': 0.7, 'colsample_bytree': 0.1, 'max_depth': 20, 'max_leaves': 20, 'learning_rate': 0.1, 'reg_alpha': 1e-07, 'reg_lambda': 20, 'n_estimators': 400, 'scale_pos_weight': 3}\n",
      "Generation 7\n",
      "Accuracy 0.8276952898233002\n",
      "Best param {'min_child_weight': 0.1, 'gamma': 1.5, 'subsample': 0.7, 'colsample_bytree': 0.1, 'max_depth': 20, 'max_leaves': 20, 'learning_rate': 0.1, 'reg_alpha': 1e-07, 'reg_lambda': 20, 'n_estimators': 400, 'scale_pos_weight': 3}\n",
      "Generation 8\n",
      "Accuracy 0.827955641961311\n",
      "Best param {'min_child_weight': 0.1, 'gamma': 1.5, 'subsample': 0.7, 'colsample_bytree': 0.1, 'max_depth': 20, 'max_leaves': 20, 'learning_rate': 0.1, 'reg_alpha': 1e-07, 'reg_lambda': 20, 'n_estimators': 400, 'scale_pos_weight': 3}\n",
      "Generation 9\n",
      "Accuracy 0.8272207741294323\n",
      "Best param {'min_child_weight': 0.1, 'gamma': 1.5, 'subsample': 0.7, 'colsample_bytree': 0.1, 'max_depth': 20, 'max_leaves': 20, 'learning_rate': 0.1, 'reg_alpha': 1e-07, 'reg_lambda': 20, 'n_estimators': 400, 'scale_pos_weight': 3}\n",
      "Generation 10\n",
      "Accuracy 0.8272496045693457\n",
      "Best param {'min_child_weight': 0.1, 'gamma': 1.5, 'subsample': 0.7, 'colsample_bytree': 0.1, 'max_depth': 20, 'max_leaves': 20, 'learning_rate': 0.1, 'reg_alpha': 1e-07, 'reg_lambda': 20, 'n_estimators': 400, 'scale_pos_weight': 3}\n",
      "Generation 11\n",
      "Accuracy 0.8279548887121769\n",
      "Best param {'min_child_weight': 0.1, 'gamma': 1.5, 'subsample': 0.7, 'colsample_bytree': 0.1, 'max_depth': 20, 'max_leaves': 20, 'learning_rate': 0.1, 'reg_alpha': 1e-07, 'reg_lambda': 20, 'n_estimators': 400, 'scale_pos_weight': 3}\n",
      "Generation 12\n",
      "Accuracy 0.8278789142304006\n",
      "Best param {'min_child_weight': 0.1, 'gamma': 1.5, 'subsample': 0.7, 'colsample_bytree': 0.1, 'max_depth': 20, 'max_leaves': 20, 'learning_rate': 0.1, 'reg_alpha': 1e-07, 'reg_lambda': 20, 'n_estimators': 400, 'scale_pos_weight': 3}\n",
      "Generation 13\n",
      "Accuracy 0.8273682254369369\n",
      "Best param {'min_child_weight': 0.1, 'gamma': 1.5, 'subsample': 0.7, 'colsample_bytree': 0.1, 'max_depth': 20, 'max_leaves': 20, 'learning_rate': 0.1, 'reg_alpha': 1e-07, 'reg_lambda': 20, 'n_estimators': 400, 'scale_pos_weight': 3}\n",
      "Generation 14\n",
      "Accuracy 0.8273296599692431\n",
      "Best param {'min_child_weight': 0.1, 'gamma': 1.5, 'subsample': 0.7, 'colsample_bytree': 0.1, 'max_depth': 20, 'max_leaves': 20, 'learning_rate': 0.1, 'reg_alpha': 1e-07, 'reg_lambda': 20, 'n_estimators': 400, 'scale_pos_weight': 3}\n",
      "Generation 15\n",
      "Accuracy 0.827704144518388\n",
      "Best param {'min_child_weight': 0.1, 'gamma': 1.5, 'subsample': 0.7, 'colsample_bytree': 0.1, 'max_depth': 20, 'max_leaves': 20, 'learning_rate': 0.1, 'reg_alpha': 1e-07, 'reg_lambda': 20, 'n_estimators': 400, 'scale_pos_weight': 3}\n",
      "Generation 16\n",
      "Accuracy 0.8276157803687682\n",
      "Best param {'min_child_weight': 0.1, 'gamma': 1.5, 'subsample': 0.7, 'colsample_bytree': 0.1, 'max_depth': 20, 'max_leaves': 20, 'learning_rate': 0.1, 'reg_alpha': 1e-07, 'reg_lambda': 20, 'n_estimators': 400, 'scale_pos_weight': 3}\n",
      "Generation 17\n",
      "Accuracy 0.8271629497741969\n",
      "Best param {'min_child_weight': 0.1, 'gamma': 1.5, 'subsample': 0.7, 'colsample_bytree': 0.1, 'max_depth': 20, 'max_leaves': 20, 'learning_rate': 0.1, 'reg_alpha': 1e-07, 'reg_lambda': 20, 'n_estimators': 400, 'scale_pos_weight': 3}\n",
      "Generation 18\n",
      "Accuracy 0.8278691067672033\n",
      "Best param {'min_child_weight': 0.1, 'gamma': 1.5, 'subsample': 0.7, 'colsample_bytree': 0.1, 'max_depth': 20, 'max_leaves': 20, 'learning_rate': 0.1, 'reg_alpha': 1e-07, 'reg_lambda': 20, 'n_estimators': 400, 'scale_pos_weight': 3}\n",
      "Generation 19\n",
      "Accuracy 0.8272717986882595\n",
      "Best param {'min_child_weight': 0.1, 'gamma': 1.5, 'subsample': 0.7, 'colsample_bytree': 0.1, 'max_depth': 20, 'max_leaves': 20, 'learning_rate': 0.1, 'reg_alpha': 1e-07, 'reg_lambda': 20, 'n_estimators': 400, 'scale_pos_weight': 3}\n",
      "Accuracy:  0.7976396391186803\n",
      "XGBClassifier(base_score=None, booster=None, callbacks=None,\n",
      "              colsample_bylevel=None, colsample_bynode=None,\n",
      "              colsample_bytree=None, early_stopping_rounds=None,\n",
      "              enable_categorical=False, eval_metric=None, feature_types=None,\n",
      "              gamma=None, gpu_id=None, grow_policy=None, importance_type=None,\n",
      "              interaction_constraints=None, learning_rate=None, max_bin=None,\n",
      "              max_cat_threshold=None, max_cat_to_onehot=None,\n",
      "              max_delta_step=None, max_depth=None, max_leaves=None,\n",
      "              min_child_weight=None, missing=nan, monotone_constraints=None,\n",
      "              n_estimators=100, n_jobs=None, num_parallel_tree=None,\n",
      "              predictor=None, random_state=None, ...)\n"
     ]
    },
    {
     "name": "stderr",
     "output_type": "stream",
     "text": [
      "ntree_limit is deprecated, use `iteration_range` or model slicing instead.\n"
     ]
    },
    {
     "data": {
      "text/plain": [
       "<dpks.quant_matrix.QuantMatrix at 0x7f9eae0aefa0>"
      ]
     },
     "execution_count": 12,
     "metadata": {},
     "output_type": "execute_result"
    }
   ],
   "source": [
    "quantified_data.classify(clf, calculate_feature_importance=False, \n",
    "                         run_param_search =True, \n",
    "                         verbose=True, \n",
    "                         param_grid=param_grid, \n",
    "                         param_search_method='genetic',\n",
    "                         threads=8,\n",
    "                         n_generations=20,\n",
    "                         pop_size=10, \n",
    "                         n_survive=5)"
   ]
  },
  {
   "cell_type": "code",
   "execution_count": 14,
   "metadata": {},
   "outputs": [
    {
     "data": {
      "text/plain": [
       "<AxesSubplot:xlabel='generation', ylabel='scores'>"
      ]
     },
     "execution_count": 14,
     "metadata": {},
     "output_type": "execute_result"
    },
    {
     "data": {
      "image/png": "[encoded data removed]",
      "text/plain": [
       "<Figure size 640x480 with 1 Axes>"
      ]
     },
     "metadata": {},
     "output_type": "display_data"
    }
   ],
   "source": [
    "import pandas as pd\n",
    "import seaborn as sns\n",
    "populations = quantified_data.parameter_population\n",
    "plot_dict = {'generation': [], 'scores' : []}\n",
    "for generation in populations.keys():\n",
    "    population = populations[generation]\n",
    "    for individual in population:\n",
    "        score, d = individual\n",
    "        plot_dict['generation'].append(generation)\n",
    "        plot_dict['scores'].append(score)\n",
    "\n",
    "plot_frame = pd.DataFrame(plot_dict)\n",
    "max_frame = plot_frame.groupby('generation', as_index=False).max()\n",
    "min_frame = plot_frame.groupby('generation', as_index=False).min()\n",
    "sns.lineplot(data=plot_frame, x='generation', y='scores', label='all')\n",
    "sns.lineplot(data=min_frame, x='generation', y='scores', label='min')\n",
    "sns.lineplot(data=max_frame, x='generation', y='scores', label='max')\n"
   ]
  }
 ],
 "metadata": {
  "kernelspec": {
   "display_name": "test-venv",
   "language": "python",
   "name": "python3"
  },
  "language_info": {
   "codemirror_mode": {
    "name": "ipython",
    "version": 3
   },
   "file_extension": ".py",
   "mimetype": "text/x-python",
   "name": "python",
   "nbconvert_exporter": "python",
   "pygments_lexer": "ipython3",
   "version": "3.9.13"
  },
  "orig_nbformat": 4
 },
 "nbformat": 4,
 "nbformat_minor": 2
}
