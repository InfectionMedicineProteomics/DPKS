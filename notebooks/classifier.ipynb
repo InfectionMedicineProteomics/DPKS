{
 "cells": [
  {
   "cell_type": "code",
   "execution_count": null,
   "metadata": {},
   "outputs": [],
   "source": [
    "from dpks.quant_matrix import QuantMatrix\n",
    "from dpks.classification import Classifier"
   ]
  },
  {
   "cell_type": "code",
   "execution_count": null,
   "metadata": {},
   "outputs": [],
   "source": [
    "qm = QuantMatrix(\n",
    "    quantification_file=\"../tests/input_files/data_sepsis.tsv\",\n",
    "    design_matrix_file=\"../tests/input_files/design_sepsis.tsv\")"
   ]
  },
  {
   "cell_type": "code",
   "execution_count": null,
   "metadata": {},
   "outputs": [],
   "source": [
    "quantified_data = (\n",
    "    qm.normalize(\n",
    "        method=\"mean\",\n",
    "    )\n",
    "    .quantify(method=\"top_n\")\n",
    ")"
   ]
  },
  {
   "cell_type": "code",
   "execution_count": null,
   "metadata": {},
   "outputs": [],
   "source": [
    "params = {\n",
    "        'min_child_weight': [0.01, 0.1, 0.5, 1, 5, 10, 25],\n",
    "        'gamma': [0.1, 0.5, 1, 1.5, 2, 5, 10],\n",
    "        'subsample': [0.4, 0.6, 0.8, 1.0],\n",
    "        'colsample_bytree': [0.1, 0.2, 0.4, 0.6, 0.8, 1.0],\n",
    "        'max_depth': [2, 3, 4, 5, 6, 7,8,9,10],\n",
    "        \"learning_rate\": [0.0001,0.001, 0.01, 0.1, 1],\n",
    "        \"reg_alpha\": [1e-5, 1e-2, 0.1, 1, 10, 100],\n",
    "        \"reg_lambda\": [1e-5, 1e-2, 0.1, 1, 10, 100]\n",
    "        }\n",
    "\n",
    "quantified_data.classify(classifier=\"xgboost\", shap_algorithm=\"tree\", run_rfe = True, rfe_min_features_to_select=5, rfe_step=10, run_param_search=True, param_grid=params, random_state=42, n_iter=1000)\n",
    "quantified_data.clf.best_params"
   ]
  },
  {
   "cell_type": "code",
   "execution_count": null,
   "metadata": {},
   "outputs": [],
   "source": [
    "quantified_data.to_df()"
   ]
  },
  {
   "cell_type": "code",
   "execution_count": null,
   "metadata": {},
   "outputs": [],
   "source": [
    "df = quantified_data.to_df()\n",
    "df[df['Protein'] == 'P59665'] "
   ]
  },
  {
   "cell_type": "code",
   "execution_count": null,
   "metadata": {},
   "outputs": [],
   "source": [
    "import matplotlib.pyplot as plt\n",
    "plt.scatter(df['FeatureRank'], df['SHAP'])\n",
    "plt.xlabel('FeatureRank')\n",
    "plt.ylabel('SHAP')"
   ]
  },
  {
   "cell_type": "code",
   "execution_count": null,
   "metadata": {},
   "outputs": [],
   "source": [
    "from sklearn.preprocessing import LabelEncoder, StandardScaler\n",
    "import numpy as np\n",
    "\n",
    "def _generate_data_matrices(\n",
    "     quantitative_data: QuantMatrix, scale: bool\n",
    ") -> tuple:\n",
    "    le = LabelEncoder()\n",
    "    Y = le.fit_transform(quantitative_data.quantitative_data.var[\"group\"].values)\n",
    "    X = quantitative_data.quantitative_data.X.copy().transpose()\n",
    "    X = np.nan_to_num(X, copy=True, nan=0.0)\n",
    "    if scale:\n",
    "        X = StandardScaler().fit_transform(X)\n",
    "    return X, Y\n",
    "\n",
    "scale = True\n",
    "X, Y = _generate_data_matrices(quantified_data, scale)"
   ]
  },
  {
   "cell_type": "code",
   "execution_count": null,
   "metadata": {},
   "outputs": [],
   "source": [
    "clf = Classifier(quantified_data.clf.classifier)\n",
    "clf.cross_validation(X,Y,k_folds=5)\n",
    "clf.scores"
   ]
  },
  {
   "cell_type": "code",
   "execution_count": null,
   "metadata": {},
   "outputs": [],
   "source": [
    "clf.fit(X,Y)\n",
    "quantified_data.quantitative_data.obs['SHAP']= clf.feature_importances_\n",
    "print(\"This should equals the height of the Feature 232-bar:\", quantified_data.quantitative_data.obs['SHAP'][232])\n",
    "print(\"This should equals the height of the Feature 148-bar:\", quantified_data.quantitative_data.obs['SHAP'][148])\n",
    "import shap\n",
    "\n",
    "shap.summary_plot(clf.shap_values, X, max_display=5, plot_type='bar')"
   ]
  },
  {
   "cell_type": "code",
   "execution_count": null,
   "metadata": {},
   "outputs": [],
   "source": [
    "shap.summary_plot(clf.shap_values, X, max_display=5, feature_names = quantified_data.quantitative_data.obs['Protein'])"
   ]
  },
  {
   "cell_type": "code",
   "execution_count": null,
   "metadata": {},
   "outputs": [],
   "source": [
    "import matplotlib.pyplot as plt\n",
    "\n",
    "rfe_results = quantified_data.selector.cv_results_\n",
    "n_scores = len(rfe_results[\"mean_test_score\"])\n",
    "\n",
    "plt.figure()\n",
    "plt.xlabel(\"Number of features selected\")\n",
    "plt.ylabel(\"Mean test accuracy\")\n",
    "plt.errorbar(\n",
    "    range(5, n_scores+5),\n",
    "    rfe_results[\"mean_test_score\"],\n",
    "    yerr=rfe_results[\"std_test_score\"],\n",
    "    \n",
    ")\n",
    "plt.xticks(plt.xticks()[0][1:], \n",
    "           labels=[int(_)*10 for _ in plt.xticks()[0][1:]])\n",
    "plt.xlim([0,60])\n",
    "plt.show()"
   ]
  }
 ],
 "metadata": {
  "kernelspec": {
   "display_name": "test-venv",
   "language": "python",
   "name": "python3"
  },
  "language_info": {
   "name": "python",
   "version": "3.9.13"
  },
  "orig_nbformat": 4
 },
 "nbformat": 4,
 "nbformat_minor": 2
}
