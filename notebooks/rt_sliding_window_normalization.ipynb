{
 "cells": [
  {
   "cell_type": "code",
   "execution_count": 1,
   "metadata": {
    "collapsed": true
   },
   "outputs": [],
   "source": [
    "import pandas as pd\n",
    "\n",
    "from dpks.quant_matrix import QuantMatrix\n",
    "from dpks.normalization import RTSlidingWindowNormalization, MeanNormalization\n",
    "\n",
    "quant_matrix = QuantMatrix(\n",
    "    quantification_file=\"../tests/input_files/de_matrix.tsv\",\n",
    "    design_matrix_file=\"../tests/input_files/de_design_matrix.tsv\"\n",
    ")"
   ]
  },
  {
   "cell_type": "code",
   "execution_count": 2,
   "outputs": [],
   "source": [
    "filtered_data = quant_matrix.filter()"
   ],
   "metadata": {
    "collapsed": false,
    "pycharm": {
     "name": "#%%\n"
    }
   }
  },
  {
   "cell_type": "code",
   "execution_count": 3,
   "outputs": [],
   "source": [
    "rt_window_normalization = RTSlidingWindowNormalization(\n",
    "    base_method=MeanNormalization\n",
    ")"
   ],
   "metadata": {
    "collapsed": false,
    "pycharm": {
     "name": "#%%\n"
    }
   }
  },
  {
   "cell_type": "code",
   "execution_count": 4,
   "outputs": [
    {
     "data": {
      "text/plain": "array([[1.06602e+07, 1.13075e+07, 1.12150e+07, ..., 1.22147e+07,\n        1.17110e+07, 1.24860e+07],\n       [3.86613e+05, 1.86338e+06, 4.27898e+05, ..., 2.03076e+06,\n        4.39037e+05, 2.05356e+06],\n       [        nan,         nan,         nan, ...,         nan,\n                nan,         nan],\n       ...,\n       [2.74190e+07, 1.41364e+08, 3.06309e+07, ..., 1.47929e+08,\n        2.88103e+07, 1.43518e+08],\n       [        nan,         nan,         nan, ...,         nan,\n        1.36969e+06, 1.56666e+06],\n       [        nan,         nan,         nan, ...,         nan,\n                nan,         nan]])"
     },
     "execution_count": 4,
     "metadata": {},
     "output_type": "execute_result"
    }
   ],
   "source": [
    "filtered_data.quantitative_data.X"
   ],
   "metadata": {
    "collapsed": false,
    "pycharm": {
     "name": "#%%\n"
    }
   }
  },
  {
   "cell_type": "code",
   "execution_count": 5,
   "outputs": [
    {
     "name": "stderr",
     "output_type": "stream",
     "text": [
      "/home/aaron/projects/dpks/dpks/dpks/normalization.py:108: RuntimeWarning: Mean of empty slice\n",
      "  sample_means = np.nanmean(X, axis=0)\n"
     ]
    }
   ],
   "source": [
    "normalized_data = rt_window_normalization.fit_transform(filtered_data)"
   ],
   "metadata": {
    "collapsed": false,
    "pycharm": {
     "name": "#%%\n"
    }
   }
  },
  {
   "cell_type": "code",
   "execution_count": 6,
   "outputs": [
    {
     "data": {
      "text/plain": "array([[1.01036962e+07, 1.27967845e+07, 1.23549489e+07, ...,\n        1.15900599e+07, 1.07369777e+07, 1.25106019e+07],\n       [3.66430300e+05, 2.10880144e+06, 4.71391702e+05, ...,\n        1.92691019e+06, 4.02521603e+05, 2.05760625e+06],\n       [           nan,            nan,            nan, ...,\n                   nan,            nan,            nan],\n       ...,\n       [2.74190000e+07, 1.41364000e+08, 3.06309000e+07, ...,\n        1.47929000e+08, 2.88103000e+07, 1.43518000e+08],\n       [           nan,            nan,            nan, ...,\n                   nan, 1.36969000e+06, 1.56666000e+06],\n       [           nan,            nan,            nan, ...,\n                   nan,            nan,            nan]])"
     },
     "execution_count": 6,
     "metadata": {},
     "output_type": "execute_result"
    }
   ],
   "source": [
    "normalized_data.quantitative_data.X"
   ],
   "metadata": {
    "collapsed": false,
    "pycharm": {
     "name": "#%%\n"
    }
   }
  },
  {
   "cell_type": "code",
   "execution_count": 7,
   "outputs": [],
   "source": [
    "from dpks.normalization import Log2Normalization\n",
    "\n",
    "normalized_data.quantitative_data.X = Log2Normalization().fit_transform(\n",
    "    normalized_data.quantitative_data.X\n",
    ")"
   ],
   "metadata": {
    "collapsed": false,
    "pycharm": {
     "name": "#%%\n"
    }
   }
  },
  {
   "cell_type": "code",
   "execution_count": 8,
   "outputs": [
    {
     "data": {
      "text/plain": "array([[23.26837983, 23.60927801, 23.55858571, ..., 23.46638468,\n        23.35608462, 23.57664787],\n       [18.48317928, 21.00799183, 18.84656684, ..., 20.8778579 ,\n        18.61870669, 20.9725355 ],\n       [        nan,         nan,         nan, ...,         nan,\n                nan,         nan],\n       ...,\n       [24.70867262, 27.07483953, 24.86848442, ..., 27.14032967,\n        24.78008135, 27.09665645],\n       [        nan,         nan,         nan, ...,         nan,\n        20.38541798, 20.57926069],\n       [        nan,         nan,         nan, ...,         nan,\n                nan,         nan]])"
     },
     "execution_count": 8,
     "metadata": {},
     "output_type": "execute_result"
    }
   ],
   "source": [
    "normalized_data.quantitative_data.X"
   ],
   "metadata": {
    "collapsed": false,
    "pycharm": {
     "name": "#%%\n"
    }
   }
  },
  {
   "cell_type": "code",
   "execution_count": null,
   "outputs": [],
   "source": [],
   "metadata": {
    "collapsed": false,
    "pycharm": {
     "name": "#%%\n"
    }
   }
  }
 ],
 "metadata": {
  "kernelspec": {
   "display_name": "Python 3",
   "language": "python",
   "name": "python3"
  },
  "language_info": {
   "codemirror_mode": {
    "name": "ipython",
    "version": 2
   },
   "file_extension": ".py",
   "mimetype": "text/x-python",
   "name": "python",
   "nbconvert_exporter": "python",
   "pygments_lexer": "ipython2",
   "version": "2.7.6"
  }
 },
 "nbformat": 4,
 "nbformat_minor": 0
}