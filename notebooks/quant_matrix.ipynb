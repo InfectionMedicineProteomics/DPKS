{
 "cells": [
  {
   "cell_type": "code",
   "execution_count": 1,
   "metadata": {
    "collapsed": true
   },
   "outputs": [],
   "source": [
    "import pandas as pd\n",
    "\n",
    "from dpks.quant_matrix import QuantMatrix"
   ]
  },
  {
   "cell_type": "code",
   "execution_count": 2,
   "outputs": [],
   "source": [
    "quant_matrix = QuantMatrix(\n",
    "    quantification_file=\"../tests/input_files/pyprophet_baseline_matrix.tsv\",\n",
    "    design_matrix_file=\"../tests/input_files/design_matrix.tsv\"\n",
    ")"
   ],
   "metadata": {
    "collapsed": false,
    "pycharm": {
     "name": "#%%\n"
    }
   }
  },
  {
   "cell_type": "code",
   "execution_count": 3,
   "outputs": [],
   "source": [
    "quantified_proteins = (\n",
    "    quant_matrix.filter()\n",
    "        .normalize(method=\"mean\")\n",
    "        .quantify(method=\"top_n\", top_n=1)\n",
    ")"
   ],
   "metadata": {
    "collapsed": false,
    "pycharm": {
     "name": "#%%\n"
    }
   }
  },
  {
   "cell_type": "code",
   "execution_count": 6,
   "outputs": [
    {
     "data": {
      "text/plain": "array([[24.57301573, 22.5619833 , 25.44406321, ..., 23.17899338,\n        23.4407614 , 22.68948719],\n       [23.42960565, 25.02341346, 26.29508565, ..., 25.55850934,\n        25.11396064, 27.06872003],\n       [25.34170547, 25.19293284, 25.74435763, ..., 28.68128717,\n        25.73146951, 28.71774182],\n       ...,\n       [18.60413249, 16.5272568 , 17.27522334, ..., 16.22630953,\n        15.2843166 , 16.84401038],\n       [21.44193587, 21.15136793, 18.70287996, ..., 20.30590291,\n        20.10725169, 19.98917056],\n       [19.55621493, 19.03975863, 19.35396186, ..., 18.94768531,\n        19.25831372, 18.73284992]])"
     },
     "execution_count": 6,
     "metadata": {},
     "output_type": "execute_result"
    }
   ],
   "source": [
    "quantified_proteins.quantitative_data.X"
   ],
   "metadata": {
    "collapsed": false,
    "pycharm": {
     "name": "#%%\n"
    }
   }
  },
  {
   "cell_type": "code",
   "execution_count": 7,
   "outputs": [
    {
     "data": {
      "text/plain": "                            sample\nsample                            \nCK_P1912_137.osw  CK_P1912_137.osw\nCK_P1912_138.osw  CK_P1912_138.osw\nCK_P1912_139.osw  CK_P1912_139.osw\nCK_P1912_141.osw  CK_P1912_141.osw\nCK_P1912_142.osw  CK_P1912_142.osw\n...                            ...\nTM_P1912_040.osw  TM_P1912_040.osw\nTM_P1912_041.osw  TM_P1912_041.osw\nTM_P1912_042.osw  TM_P1912_042.osw\nTM_P1912_044.osw  TM_P1912_044.osw\nTM_P1912_045.osw  TM_P1912_045.osw\n\n[263 rows x 1 columns]",
      "text/html": "<div>\n<style scoped>\n    .dataframe tbody tr th:only-of-type {\n        vertical-align: middle;\n    }\n\n    .dataframe tbody tr th {\n        vertical-align: top;\n    }\n\n    .dataframe thead th {\n        text-align: right;\n    }\n</style>\n<table border=\"1\" class=\"dataframe\">\n  <thead>\n    <tr style=\"text-align: right;\">\n      <th></th>\n      <th>sample</th>\n    </tr>\n    <tr>\n      <th>sample</th>\n      <th></th>\n    </tr>\n  </thead>\n  <tbody>\n    <tr>\n      <th>CK_P1912_137.osw</th>\n      <td>CK_P1912_137.osw</td>\n    </tr>\n    <tr>\n      <th>CK_P1912_138.osw</th>\n      <td>CK_P1912_138.osw</td>\n    </tr>\n    <tr>\n      <th>CK_P1912_139.osw</th>\n      <td>CK_P1912_139.osw</td>\n    </tr>\n    <tr>\n      <th>CK_P1912_141.osw</th>\n      <td>CK_P1912_141.osw</td>\n    </tr>\n    <tr>\n      <th>CK_P1912_142.osw</th>\n      <td>CK_P1912_142.osw</td>\n    </tr>\n    <tr>\n      <th>...</th>\n      <td>...</td>\n    </tr>\n    <tr>\n      <th>TM_P1912_040.osw</th>\n      <td>TM_P1912_040.osw</td>\n    </tr>\n    <tr>\n      <th>TM_P1912_041.osw</th>\n      <td>TM_P1912_041.osw</td>\n    </tr>\n    <tr>\n      <th>TM_P1912_042.osw</th>\n      <td>TM_P1912_042.osw</td>\n    </tr>\n    <tr>\n      <th>TM_P1912_044.osw</th>\n      <td>TM_P1912_044.osw</td>\n    </tr>\n    <tr>\n      <th>TM_P1912_045.osw</th>\n      <td>TM_P1912_045.osw</td>\n    </tr>\n  </tbody>\n</table>\n<p>263 rows × 1 columns</p>\n</div>"
     },
     "execution_count": 7,
     "metadata": {},
     "output_type": "execute_result"
    }
   ],
   "source": [
    "quantified_proteins.quantitative_data.var"
   ],
   "metadata": {
    "collapsed": false,
    "pycharm": {
     "name": "#%%\n"
    }
   }
  },
  {
   "cell_type": "code",
   "execution_count": 8,
   "outputs": [
    {
     "data": {
      "text/plain": "        Protein\n0        P00352\n1        P04275\n2        P02751\n3        P02774\n4        P10645\n..          ...\n255      P78417\n256      P04179\n257      P07437\n258      P06331\n259  A0A087WSY4\n\n[260 rows x 1 columns]",
      "text/html": "<div>\n<style scoped>\n    .dataframe tbody tr th:only-of-type {\n        vertical-align: middle;\n    }\n\n    .dataframe tbody tr th {\n        vertical-align: top;\n    }\n\n    .dataframe thead th {\n        text-align: right;\n    }\n</style>\n<table border=\"1\" class=\"dataframe\">\n  <thead>\n    <tr style=\"text-align: right;\">\n      <th></th>\n      <th>Protein</th>\n    </tr>\n  </thead>\n  <tbody>\n    <tr>\n      <th>0</th>\n      <td>P00352</td>\n    </tr>\n    <tr>\n      <th>1</th>\n      <td>P04275</td>\n    </tr>\n    <tr>\n      <th>2</th>\n      <td>P02751</td>\n    </tr>\n    <tr>\n      <th>3</th>\n      <td>P02774</td>\n    </tr>\n    <tr>\n      <th>4</th>\n      <td>P10645</td>\n    </tr>\n    <tr>\n      <th>...</th>\n      <td>...</td>\n    </tr>\n    <tr>\n      <th>255</th>\n      <td>P78417</td>\n    </tr>\n    <tr>\n      <th>256</th>\n      <td>P04179</td>\n    </tr>\n    <tr>\n      <th>257</th>\n      <td>P07437</td>\n    </tr>\n    <tr>\n      <th>258</th>\n      <td>P06331</td>\n    </tr>\n    <tr>\n      <th>259</th>\n      <td>A0A087WSY4</td>\n    </tr>\n  </tbody>\n</table>\n<p>260 rows × 1 columns</p>\n</div>"
     },
     "execution_count": 8,
     "metadata": {},
     "output_type": "execute_result"
    }
   ],
   "source": [
    "quantified_proteins.quantitative_data.obs"
   ],
   "metadata": {
    "collapsed": false,
    "pycharm": {
     "name": "#%%\n"
    }
   }
  },
  {
   "cell_type": "code",
   "execution_count": null,
   "outputs": [],
   "source": [],
   "metadata": {
    "collapsed": false,
    "pycharm": {
     "name": "#%%\n"
    }
   }
  }
 ],
 "metadata": {
  "kernelspec": {
   "display_name": "Python 3",
   "language": "python",
   "name": "python3"
  },
  "language_info": {
   "codemirror_mode": {
    "name": "ipython",
    "version": 2
   },
   "file_extension": ".py",
   "mimetype": "text/x-python",
   "name": "python",
   "nbconvert_exporter": "python",
   "pygments_lexer": "ipython2",
   "version": "2.7.6"
  }
 },
 "nbformat": 4,
 "nbformat_minor": 0
}