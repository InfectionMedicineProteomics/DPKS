{
 "cells": [
  {
   "cell_type": "code",
   "execution_count": 1,
   "metadata": {
    "collapsed": true
   },
   "outputs": [],
   "source": [
    "from dpks.quant_matrix import QuantMatrix"
   ]
  },
  {
   "cell_type": "code",
   "execution_count": 7,
   "outputs": [],
   "source": [
    "quant_matrix = QuantMatrix(\n",
    "    quantification_file=\"../tests/input_files/pyprophet_baseline_matrix.tsv\",\n",
    "    design_matrix_file=\"../tests/input_files/design_matrix.tsv\"\n",
    ")"
   ],
   "metadata": {
    "collapsed": false,
    "pycharm": {
     "name": "#%%\n"
    }
   }
  },
  {
   "cell_type": "code",
   "execution_count": 8,
   "outputs": [],
   "source": [
    "quantified_proteins = (\n",
    "    quant_matrix.filter()\n",
    "        .normalize(method=\"mean\")\n",
    "        .quantify(method=\"top_n\", top_n=1)\n",
    ")"
   ],
   "metadata": {
    "collapsed": false,
    "pycharm": {
     "name": "#%%\n"
    }
   }
  },
  {
   "cell_type": "code",
   "execution_count": 9,
   "outputs": [
    {
     "data": {
      "text/plain": "        Protein  CK_P1912_137.osw  CK_P1912_138.osw  CK_P1912_139.osw  \\\n0        P00352      2.495829e+07      6.192040e+06      4.564847e+07   \n1        P04275      1.129833e+07      3.410343e+07      8.233975e+07   \n2        P02751      4.252198e+07      3.835557e+07      5.621133e+07   \n3        P02774      1.501344e+08      1.299159e+08      1.230479e+08   \n4        P10645      1.293572e+06      1.779908e+06      1.986358e+06   \n..          ...               ...               ...               ...   \n255      P78417      5.267080e+05      2.196566e+05      6.323720e+05   \n256      P04179      1.310753e+06      1.800693e+05      1.576667e+06   \n257      P07437      3.984758e+05      9.444958e+04      1.586209e+05   \n258      P06331      2.848826e+06      2.329143e+06      4.267051e+05   \n259  A0A087WSY4      7.709164e+05      5.389376e+05      6.700744e+05   \n\n     CK_P1912_141.osw  CK_P1912_142.osw  CK_P1912_143.osw  CK_P1912_144.osw  \\\n0        3.473166e+07      2.742277e+07      2.263596e+07      6.780681e+06   \n1        2.061054e+07      8.584742e+07      3.932410e+07      8.035641e+06   \n2        3.040420e+07      6.244160e+07      3.078109e+07      8.617593e+07   \n3        1.152480e+08      1.375478e+08      1.180366e+08      1.300449e+08   \n4        1.597197e+06      2.256519e+06      2.102685e+06      1.058360e+06   \n..                ...               ...               ...               ...   \n255      2.970271e+05      4.382692e+05      2.435871e+05      6.239326e+05   \n256      2.385363e+05      1.222394e+06      1.369920e+06      4.305563e+05   \n257      1.524742e+04      8.832279e+04      1.773897e+04      8.519046e+03   \n258      2.391607e+06      1.070920e+06      6.701840e+05      1.006317e+06   \n259      6.001100e+05      2.595472e+05      3.530171e+05      6.512879e+05   \n\n     CK_P1912_146.osw  CK_P1912_147.osw  ...  TM_P1912_032.osw  \\\n0        7.311138e+06      1.498532e+07  ...      5.052931e+07   \n1        5.056955e+07      3.477261e+07  ...      4.724951e+07   \n2        1.332405e+08      1.845499e+07  ...      5.884155e+07   \n3        1.165073e+08      1.184903e+08  ...      1.554540e+08   \n4        2.009162e+06      2.291384e+06  ...      2.267075e+06   \n..                ...               ...  ...               ...   \n255      6.409935e+05      8.406642e+04  ...      6.167782e+05   \n256      1.231354e+06      1.452726e+06  ...      1.022555e+06   \n257      2.011303e+05      1.420226e+05  ...      2.808234e+05   \n258      4.176268e+06      6.371669e+05  ...      3.869326e+05   \n259      3.147989e+05      2.036432e+05  ...      5.840903e+04   \n\n     TM_P1912_033.osw  TM_P1912_034.osw  TM_P1912_038.osw  TM_P1912_039.osw  \\\n0        1.179468e+07      9.103278e+06      1.151347e+07      2.879606e+07   \n1        7.844758e+06      9.906288e+06      4.344762e+07      1.355036e+07   \n2        7.104173e+07      2.308449e+07      5.314118e+07      9.908118e+07   \n3        1.709069e+08      2.283731e+08      1.583067e+08      1.567552e+08   \n4        2.702026e+06      1.915227e+06      2.296317e+06      2.785899e+06   \n..                ...               ...               ...               ...   \n255      3.445066e+04      1.807902e+06      1.939478e+06      5.094344e+05   \n256      9.658551e+05      3.942850e+05      8.999885e+05      2.865543e+05   \n257      1.262897e+05      2.793304e+04      8.358197e+03      1.285596e+05   \n258      7.784398e+05      7.362417e+05      8.668661e+05      1.002203e+06   \n259      2.986572e+05      4.847977e+05      6.422924e+05      3.602584e+05   \n\n     TM_P1912_040.osw  TM_P1912_041.osw  TM_P1912_042.osw  TM_P1912_044.osw  \\\n0        2.519232e+07      2.736113e+07      9.496690e+06      1.138603e+07   \n1        1.019114e+07      1.699214e+07      4.941718e+07      3.631244e+07   \n2        3.821225e+08      6.220574e+07      4.304550e+08      5.571141e+07   \n3        1.841064e+08      1.937605e+08      2.033853e+08      2.026344e+08   \n4        5.836591e+06      1.376530e+06      2.589230e+06      4.455937e+06   \n..                ...               ...               ...               ...   \n255      1.581857e+06      1.906293e+06      1.052147e+06      1.865699e+06   \n256      7.594391e+05      4.045844e+05      7.530331e+05      8.096074e+05   \n257      4.144526e+04      1.962629e+05      7.666654e+04      3.990596e+04   \n258      3.721980e+05      1.195197e+06      1.296241e+06      1.129499e+06   \n259      6.347251e+05      1.199662e+05      5.056170e+05      6.270903e+05   \n\n     TM_P1912_045.osw  \n0        6.764197e+06  \n1        1.407656e+08  \n2        4.414705e+08  \n3        1.456837e+08  \n4        1.859092e+06  \n..                ...  \n255      1.351066e+06  \n256      1.589501e+06  \n257      1.176393e+05  \n258      1.040734e+06  \n259      4.356620e+05  \n\n[260 rows x 264 columns]",
      "text/html": "<div>\n<style scoped>\n    .dataframe tbody tr th:only-of-type {\n        vertical-align: middle;\n    }\n\n    .dataframe tbody tr th {\n        vertical-align: top;\n    }\n\n    .dataframe thead th {\n        text-align: right;\n    }\n</style>\n<table border=\"1\" class=\"dataframe\">\n  <thead>\n    <tr style=\"text-align: right;\">\n      <th></th>\n      <th>Protein</th>\n      <th>CK_P1912_137.osw</th>\n      <th>CK_P1912_138.osw</th>\n      <th>CK_P1912_139.osw</th>\n      <th>CK_P1912_141.osw</th>\n      <th>CK_P1912_142.osw</th>\n      <th>CK_P1912_143.osw</th>\n      <th>CK_P1912_144.osw</th>\n      <th>CK_P1912_146.osw</th>\n      <th>CK_P1912_147.osw</th>\n      <th>...</th>\n      <th>TM_P1912_032.osw</th>\n      <th>TM_P1912_033.osw</th>\n      <th>TM_P1912_034.osw</th>\n      <th>TM_P1912_038.osw</th>\n      <th>TM_P1912_039.osw</th>\n      <th>TM_P1912_040.osw</th>\n      <th>TM_P1912_041.osw</th>\n      <th>TM_P1912_042.osw</th>\n      <th>TM_P1912_044.osw</th>\n      <th>TM_P1912_045.osw</th>\n    </tr>\n  </thead>\n  <tbody>\n    <tr>\n      <th>0</th>\n      <td>P00352</td>\n      <td>2.495829e+07</td>\n      <td>6.192040e+06</td>\n      <td>4.564847e+07</td>\n      <td>3.473166e+07</td>\n      <td>2.742277e+07</td>\n      <td>2.263596e+07</td>\n      <td>6.780681e+06</td>\n      <td>7.311138e+06</td>\n      <td>1.498532e+07</td>\n      <td>...</td>\n      <td>5.052931e+07</td>\n      <td>1.179468e+07</td>\n      <td>9.103278e+06</td>\n      <td>1.151347e+07</td>\n      <td>2.879606e+07</td>\n      <td>2.519232e+07</td>\n      <td>2.736113e+07</td>\n      <td>9.496690e+06</td>\n      <td>1.138603e+07</td>\n      <td>6.764197e+06</td>\n    </tr>\n    <tr>\n      <th>1</th>\n      <td>P04275</td>\n      <td>1.129833e+07</td>\n      <td>3.410343e+07</td>\n      <td>8.233975e+07</td>\n      <td>2.061054e+07</td>\n      <td>8.584742e+07</td>\n      <td>3.932410e+07</td>\n      <td>8.035641e+06</td>\n      <td>5.056955e+07</td>\n      <td>3.477261e+07</td>\n      <td>...</td>\n      <td>4.724951e+07</td>\n      <td>7.844758e+06</td>\n      <td>9.906288e+06</td>\n      <td>4.344762e+07</td>\n      <td>1.355036e+07</td>\n      <td>1.019114e+07</td>\n      <td>1.699214e+07</td>\n      <td>4.941718e+07</td>\n      <td>3.631244e+07</td>\n      <td>1.407656e+08</td>\n    </tr>\n    <tr>\n      <th>2</th>\n      <td>P02751</td>\n      <td>4.252198e+07</td>\n      <td>3.835557e+07</td>\n      <td>5.621133e+07</td>\n      <td>3.040420e+07</td>\n      <td>6.244160e+07</td>\n      <td>3.078109e+07</td>\n      <td>8.617593e+07</td>\n      <td>1.332405e+08</td>\n      <td>1.845499e+07</td>\n      <td>...</td>\n      <td>5.884155e+07</td>\n      <td>7.104173e+07</td>\n      <td>2.308449e+07</td>\n      <td>5.314118e+07</td>\n      <td>9.908118e+07</td>\n      <td>3.821225e+08</td>\n      <td>6.220574e+07</td>\n      <td>4.304550e+08</td>\n      <td>5.571141e+07</td>\n      <td>4.414705e+08</td>\n    </tr>\n    <tr>\n      <th>3</th>\n      <td>P02774</td>\n      <td>1.501344e+08</td>\n      <td>1.299159e+08</td>\n      <td>1.230479e+08</td>\n      <td>1.152480e+08</td>\n      <td>1.375478e+08</td>\n      <td>1.180366e+08</td>\n      <td>1.300449e+08</td>\n      <td>1.165073e+08</td>\n      <td>1.184903e+08</td>\n      <td>...</td>\n      <td>1.554540e+08</td>\n      <td>1.709069e+08</td>\n      <td>2.283731e+08</td>\n      <td>1.583067e+08</td>\n      <td>1.567552e+08</td>\n      <td>1.841064e+08</td>\n      <td>1.937605e+08</td>\n      <td>2.033853e+08</td>\n      <td>2.026344e+08</td>\n      <td>1.456837e+08</td>\n    </tr>\n    <tr>\n      <th>4</th>\n      <td>P10645</td>\n      <td>1.293572e+06</td>\n      <td>1.779908e+06</td>\n      <td>1.986358e+06</td>\n      <td>1.597197e+06</td>\n      <td>2.256519e+06</td>\n      <td>2.102685e+06</td>\n      <td>1.058360e+06</td>\n      <td>2.009162e+06</td>\n      <td>2.291384e+06</td>\n      <td>...</td>\n      <td>2.267075e+06</td>\n      <td>2.702026e+06</td>\n      <td>1.915227e+06</td>\n      <td>2.296317e+06</td>\n      <td>2.785899e+06</td>\n      <td>5.836591e+06</td>\n      <td>1.376530e+06</td>\n      <td>2.589230e+06</td>\n      <td>4.455937e+06</td>\n      <td>1.859092e+06</td>\n    </tr>\n    <tr>\n      <th>...</th>\n      <td>...</td>\n      <td>...</td>\n      <td>...</td>\n      <td>...</td>\n      <td>...</td>\n      <td>...</td>\n      <td>...</td>\n      <td>...</td>\n      <td>...</td>\n      <td>...</td>\n      <td>...</td>\n      <td>...</td>\n      <td>...</td>\n      <td>...</td>\n      <td>...</td>\n      <td>...</td>\n      <td>...</td>\n      <td>...</td>\n      <td>...</td>\n      <td>...</td>\n      <td>...</td>\n    </tr>\n    <tr>\n      <th>255</th>\n      <td>P78417</td>\n      <td>5.267080e+05</td>\n      <td>2.196566e+05</td>\n      <td>6.323720e+05</td>\n      <td>2.970271e+05</td>\n      <td>4.382692e+05</td>\n      <td>2.435871e+05</td>\n      <td>6.239326e+05</td>\n      <td>6.409935e+05</td>\n      <td>8.406642e+04</td>\n      <td>...</td>\n      <td>6.167782e+05</td>\n      <td>3.445066e+04</td>\n      <td>1.807902e+06</td>\n      <td>1.939478e+06</td>\n      <td>5.094344e+05</td>\n      <td>1.581857e+06</td>\n      <td>1.906293e+06</td>\n      <td>1.052147e+06</td>\n      <td>1.865699e+06</td>\n      <td>1.351066e+06</td>\n    </tr>\n    <tr>\n      <th>256</th>\n      <td>P04179</td>\n      <td>1.310753e+06</td>\n      <td>1.800693e+05</td>\n      <td>1.576667e+06</td>\n      <td>2.385363e+05</td>\n      <td>1.222394e+06</td>\n      <td>1.369920e+06</td>\n      <td>4.305563e+05</td>\n      <td>1.231354e+06</td>\n      <td>1.452726e+06</td>\n      <td>...</td>\n      <td>1.022555e+06</td>\n      <td>9.658551e+05</td>\n      <td>3.942850e+05</td>\n      <td>8.999885e+05</td>\n      <td>2.865543e+05</td>\n      <td>7.594391e+05</td>\n      <td>4.045844e+05</td>\n      <td>7.530331e+05</td>\n      <td>8.096074e+05</td>\n      <td>1.589501e+06</td>\n    </tr>\n    <tr>\n      <th>257</th>\n      <td>P07437</td>\n      <td>3.984758e+05</td>\n      <td>9.444958e+04</td>\n      <td>1.586209e+05</td>\n      <td>1.524742e+04</td>\n      <td>8.832279e+04</td>\n      <td>1.773897e+04</td>\n      <td>8.519046e+03</td>\n      <td>2.011303e+05</td>\n      <td>1.420226e+05</td>\n      <td>...</td>\n      <td>2.808234e+05</td>\n      <td>1.262897e+05</td>\n      <td>2.793304e+04</td>\n      <td>8.358197e+03</td>\n      <td>1.285596e+05</td>\n      <td>4.144526e+04</td>\n      <td>1.962629e+05</td>\n      <td>7.666654e+04</td>\n      <td>3.990596e+04</td>\n      <td>1.176393e+05</td>\n    </tr>\n    <tr>\n      <th>258</th>\n      <td>P06331</td>\n      <td>2.848826e+06</td>\n      <td>2.329143e+06</td>\n      <td>4.267051e+05</td>\n      <td>2.391607e+06</td>\n      <td>1.070920e+06</td>\n      <td>6.701840e+05</td>\n      <td>1.006317e+06</td>\n      <td>4.176268e+06</td>\n      <td>6.371669e+05</td>\n      <td>...</td>\n      <td>3.869326e+05</td>\n      <td>7.784398e+05</td>\n      <td>7.362417e+05</td>\n      <td>8.668661e+05</td>\n      <td>1.002203e+06</td>\n      <td>3.721980e+05</td>\n      <td>1.195197e+06</td>\n      <td>1.296241e+06</td>\n      <td>1.129499e+06</td>\n      <td>1.040734e+06</td>\n    </tr>\n    <tr>\n      <th>259</th>\n      <td>A0A087WSY4</td>\n      <td>7.709164e+05</td>\n      <td>5.389376e+05</td>\n      <td>6.700744e+05</td>\n      <td>6.001100e+05</td>\n      <td>2.595472e+05</td>\n      <td>3.530171e+05</td>\n      <td>6.512879e+05</td>\n      <td>3.147989e+05</td>\n      <td>2.036432e+05</td>\n      <td>...</td>\n      <td>5.840903e+04</td>\n      <td>2.986572e+05</td>\n      <td>4.847977e+05</td>\n      <td>6.422924e+05</td>\n      <td>3.602584e+05</td>\n      <td>6.347251e+05</td>\n      <td>1.199662e+05</td>\n      <td>5.056170e+05</td>\n      <td>6.270903e+05</td>\n      <td>4.356620e+05</td>\n    </tr>\n  </tbody>\n</table>\n<p>260 rows × 264 columns</p>\n</div>"
     },
     "execution_count": 9,
     "metadata": {},
     "output_type": "execute_result"
    }
   ],
   "source": [
    "quantified_proteins.to_df()"
   ],
   "metadata": {
    "collapsed": false,
    "pycharm": {
     "name": "#%%\n"
    }
   }
  }
 ],
 "metadata": {
  "kernelspec": {
   "display_name": "Python 3",
   "language": "python",
   "name": "python3"
  },
  "language_info": {
   "codemirror_mode": {
    "name": "ipython",
    "version": 2
   },
   "file_extension": ".py",
   "mimetype": "text/x-python",
   "name": "python",
   "nbconvert_exporter": "python",
   "pygments_lexer": "ipython2",
   "version": "2.7.6"
  }
 },
 "nbformat": 4,
 "nbformat_minor": 0
}