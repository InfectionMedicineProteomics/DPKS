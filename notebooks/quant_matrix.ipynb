{
 "cells": [
  {
   "cell_type": "code",
   "execution_count": 1,
   "metadata": {
    "collapsed": true
   },
   "outputs": [],
   "source": [
    "from dpks.quant_matrix import QuantMatrix"
   ]
  },
  {
   "cell_type": "code",
   "execution_count": 2,
   "outputs": [],
   "source": [
    "quant_matrix = QuantMatrix(\n",
    "    quantification_file=\"../tests/input_files/pyprophet_baseline_matrix.tsv\",\n",
    "    design_matrix_file=\"../tests/input_files/design_matrix.tsv\"\n",
    ")"
   ],
   "metadata": {
    "collapsed": false,
    "pycharm": {
     "name": "#%%\n"
    }
   }
  },
  {
   "cell_type": "code",
   "execution_count": 3,
   "outputs": [
    {
     "data": {
      "text/plain": "AnnData object with n_obs × n_vars = 9942 × 263\n    obs: 'PeptideSequence', 'Charge', 'Decoy', 'Protein', 'RetentionTime', 'PeptideQValue', 'ProteinQValue'\n    var: 'sample'"
     },
     "execution_count": 3,
     "metadata": {},
     "output_type": "execute_result"
    }
   ],
   "source": [
    "quant_matrix.quantitative_data"
   ],
   "metadata": {
    "collapsed": false,
    "pycharm": {
     "name": "#%%\n"
    }
   }
  },
  {
   "cell_type": "code",
   "execution_count": 4,
   "outputs": [
    {
     "data": {
      "text/plain": "sample  CK_P1912_137.osw  CK_P1912_138.osw  CK_P1912_139.osw  \\\n0                29566.2           59295.7           24536.4   \n1                69900.3          195571.0          403947.0   \n2               115684.0          132524.0          217962.0   \n3                20763.7          204225.0          246195.0   \n4              2436210.0         2374450.0        10647700.0   \n...                  ...               ...               ...   \n9937                 NaN               NaN               NaN   \n9938                 NaN               NaN               NaN   \n9939                 NaN               NaN               NaN   \n9940                 NaN               NaN               NaN   \n9941                 NaN               NaN               NaN   \n\nsample  CK_P1912_141.osw  CK_P1912_142.osw  CK_P1912_143.osw  \\\n0                4560.66           3602.08           6541.75   \n1               97338.80        1783090.00         129273.00   \n2              389350.00         341367.00         243587.00   \n3                8090.90         223164.00         316190.00   \n4             2227900.00         838035.00        1234980.00   \n...                  ...               ...               ...   \n9937                 NaN           4920.32               NaN   \n9938                 NaN          70266.70               NaN   \n9939                 NaN           4380.98           3241.60   \n9940                 NaN          16563.10               NaN   \n9941                 NaN               NaN               NaN   \n\nsample  CK_P1912_144.osw  CK_P1912_146.osw  CK_P1912_147.osw  \\\n0               13721.20          346519.0           9474.49   \n1              165082.00           54614.5          90589.90   \n2              200729.00          495473.0         115075.00   \n3              369983.00          338755.0         354888.00   \n4             5115710.00         1001670.0        1026120.00   \n...                  ...               ...               ...   \n9937             2451.67               NaN           2348.31   \n9938            12558.70           10132.9          28522.30   \n9939            81629.80               NaN           6303.06   \n9940                 NaN               NaN           9971.33   \n9941                 NaN               NaN           3315.15   \n\nsample  CK_P1912_148.osw  ...  TM_P1912_032.osw  TM_P1912_033.osw  \\\n0                8662.78  ...          38856.90         254237.00   \n1               50578.40  ...         225491.00         879293.00   \n2              411707.00  ...           7739.92         246843.00   \n3              343382.00  ...          93068.20               NaN   \n4             3570080.00  ...        1425850.00         221773.00   \n...                  ...  ...               ...               ...   \n9937             2306.38  ...               NaN               NaN   \n9938            59933.20  ...               NaN          96635.20   \n9939             3982.30  ...               NaN           2126.20   \n9940                 NaN  ...           5551.50           6166.95   \n9941                 NaN  ...           2297.77           2757.29   \n\nsample  TM_P1912_034.osw  TM_P1912_038.osw  TM_P1912_039.osw  \\\n0               141695.0           7479.44          22168.10   \n1                73213.5         105865.00          94692.20   \n2               586981.0         580304.00          42384.40   \n3                21329.0         353393.00          41346.50   \n4              1312030.0         948220.00        7800350.00   \n...                  ...               ...               ...   \n9937                 NaN               NaN               NaN   \n9938            102333.0           4134.33           3874.38   \n9939                 NaN           2084.89           1730.30   \n9940             26912.9           6378.28           7256.30   \n9941             11673.6           2293.69           2747.83   \n\nsample  TM_P1912_040.osw  TM_P1912_041.osw  TM_P1912_042.osw  \\\n0               50593.80           8202.58          12365.40   \n1              161677.00         434863.00         783570.00   \n2              119501.00         203521.00         288944.00   \n3               37029.40         388027.00         369886.00   \n4              444133.00        2531220.00        1507720.00   \n...                  ...               ...               ...   \n9937                 NaN               NaN               NaN   \n9938             4645.30          73128.70           4271.48   \n9939             2150.32           2037.10               NaN   \n9940            10792.60          25324.90               NaN   \n9941                 NaN           2483.38           2167.30   \n\nsample  TM_P1912_044.osw  TM_P1912_045.osw  \n0                3776.77           11512.0  \n1              325194.00         3750390.0  \n2              150333.00           65409.6  \n3              437082.00          166657.0  \n4              437906.00         7460460.0  \n...                  ...               ...  \n9937                 NaN               NaN  \n9938             7105.75           17927.4  \n9939             2802.18               NaN  \n9940            32759.30           34983.9  \n9941                 NaN               NaN  \n\n[9942 rows x 263 columns]",
      "text/html": "<div>\n<style scoped>\n    .dataframe tbody tr th:only-of-type {\n        vertical-align: middle;\n    }\n\n    .dataframe tbody tr th {\n        vertical-align: top;\n    }\n\n    .dataframe thead th {\n        text-align: right;\n    }\n</style>\n<table border=\"1\" class=\"dataframe\">\n  <thead>\n    <tr style=\"text-align: right;\">\n      <th>sample</th>\n      <th>CK_P1912_137.osw</th>\n      <th>CK_P1912_138.osw</th>\n      <th>CK_P1912_139.osw</th>\n      <th>CK_P1912_141.osw</th>\n      <th>CK_P1912_142.osw</th>\n      <th>CK_P1912_143.osw</th>\n      <th>CK_P1912_144.osw</th>\n      <th>CK_P1912_146.osw</th>\n      <th>CK_P1912_147.osw</th>\n      <th>CK_P1912_148.osw</th>\n      <th>...</th>\n      <th>TM_P1912_032.osw</th>\n      <th>TM_P1912_033.osw</th>\n      <th>TM_P1912_034.osw</th>\n      <th>TM_P1912_038.osw</th>\n      <th>TM_P1912_039.osw</th>\n      <th>TM_P1912_040.osw</th>\n      <th>TM_P1912_041.osw</th>\n      <th>TM_P1912_042.osw</th>\n      <th>TM_P1912_044.osw</th>\n      <th>TM_P1912_045.osw</th>\n    </tr>\n  </thead>\n  <tbody>\n    <tr>\n      <th>0</th>\n      <td>29566.2</td>\n      <td>59295.7</td>\n      <td>24536.4</td>\n      <td>4560.66</td>\n      <td>3602.08</td>\n      <td>6541.75</td>\n      <td>13721.20</td>\n      <td>346519.0</td>\n      <td>9474.49</td>\n      <td>8662.78</td>\n      <td>...</td>\n      <td>38856.90</td>\n      <td>254237.00</td>\n      <td>141695.0</td>\n      <td>7479.44</td>\n      <td>22168.10</td>\n      <td>50593.80</td>\n      <td>8202.58</td>\n      <td>12365.40</td>\n      <td>3776.77</td>\n      <td>11512.0</td>\n    </tr>\n    <tr>\n      <th>1</th>\n      <td>69900.3</td>\n      <td>195571.0</td>\n      <td>403947.0</td>\n      <td>97338.80</td>\n      <td>1783090.00</td>\n      <td>129273.00</td>\n      <td>165082.00</td>\n      <td>54614.5</td>\n      <td>90589.90</td>\n      <td>50578.40</td>\n      <td>...</td>\n      <td>225491.00</td>\n      <td>879293.00</td>\n      <td>73213.5</td>\n      <td>105865.00</td>\n      <td>94692.20</td>\n      <td>161677.00</td>\n      <td>434863.00</td>\n      <td>783570.00</td>\n      <td>325194.00</td>\n      <td>3750390.0</td>\n    </tr>\n    <tr>\n      <th>2</th>\n      <td>115684.0</td>\n      <td>132524.0</td>\n      <td>217962.0</td>\n      <td>389350.00</td>\n      <td>341367.00</td>\n      <td>243587.00</td>\n      <td>200729.00</td>\n      <td>495473.0</td>\n      <td>115075.00</td>\n      <td>411707.00</td>\n      <td>...</td>\n      <td>7739.92</td>\n      <td>246843.00</td>\n      <td>586981.0</td>\n      <td>580304.00</td>\n      <td>42384.40</td>\n      <td>119501.00</td>\n      <td>203521.00</td>\n      <td>288944.00</td>\n      <td>150333.00</td>\n      <td>65409.6</td>\n    </tr>\n    <tr>\n      <th>3</th>\n      <td>20763.7</td>\n      <td>204225.0</td>\n      <td>246195.0</td>\n      <td>8090.90</td>\n      <td>223164.00</td>\n      <td>316190.00</td>\n      <td>369983.00</td>\n      <td>338755.0</td>\n      <td>354888.00</td>\n      <td>343382.00</td>\n      <td>...</td>\n      <td>93068.20</td>\n      <td>NaN</td>\n      <td>21329.0</td>\n      <td>353393.00</td>\n      <td>41346.50</td>\n      <td>37029.40</td>\n      <td>388027.00</td>\n      <td>369886.00</td>\n      <td>437082.00</td>\n      <td>166657.0</td>\n    </tr>\n    <tr>\n      <th>4</th>\n      <td>2436210.0</td>\n      <td>2374450.0</td>\n      <td>10647700.0</td>\n      <td>2227900.00</td>\n      <td>838035.00</td>\n      <td>1234980.00</td>\n      <td>5115710.00</td>\n      <td>1001670.0</td>\n      <td>1026120.00</td>\n      <td>3570080.00</td>\n      <td>...</td>\n      <td>1425850.00</td>\n      <td>221773.00</td>\n      <td>1312030.0</td>\n      <td>948220.00</td>\n      <td>7800350.00</td>\n      <td>444133.00</td>\n      <td>2531220.00</td>\n      <td>1507720.00</td>\n      <td>437906.00</td>\n      <td>7460460.0</td>\n    </tr>\n    <tr>\n      <th>...</th>\n      <td>...</td>\n      <td>...</td>\n      <td>...</td>\n      <td>...</td>\n      <td>...</td>\n      <td>...</td>\n      <td>...</td>\n      <td>...</td>\n      <td>...</td>\n      <td>...</td>\n      <td>...</td>\n      <td>...</td>\n      <td>...</td>\n      <td>...</td>\n      <td>...</td>\n      <td>...</td>\n      <td>...</td>\n      <td>...</td>\n      <td>...</td>\n      <td>...</td>\n      <td>...</td>\n    </tr>\n    <tr>\n      <th>9937</th>\n      <td>NaN</td>\n      <td>NaN</td>\n      <td>NaN</td>\n      <td>NaN</td>\n      <td>4920.32</td>\n      <td>NaN</td>\n      <td>2451.67</td>\n      <td>NaN</td>\n      <td>2348.31</td>\n      <td>2306.38</td>\n      <td>...</td>\n      <td>NaN</td>\n      <td>NaN</td>\n      <td>NaN</td>\n      <td>NaN</td>\n      <td>NaN</td>\n      <td>NaN</td>\n      <td>NaN</td>\n      <td>NaN</td>\n      <td>NaN</td>\n      <td>NaN</td>\n    </tr>\n    <tr>\n      <th>9938</th>\n      <td>NaN</td>\n      <td>NaN</td>\n      <td>NaN</td>\n      <td>NaN</td>\n      <td>70266.70</td>\n      <td>NaN</td>\n      <td>12558.70</td>\n      <td>10132.9</td>\n      <td>28522.30</td>\n      <td>59933.20</td>\n      <td>...</td>\n      <td>NaN</td>\n      <td>96635.20</td>\n      <td>102333.0</td>\n      <td>4134.33</td>\n      <td>3874.38</td>\n      <td>4645.30</td>\n      <td>73128.70</td>\n      <td>4271.48</td>\n      <td>7105.75</td>\n      <td>17927.4</td>\n    </tr>\n    <tr>\n      <th>9939</th>\n      <td>NaN</td>\n      <td>NaN</td>\n      <td>NaN</td>\n      <td>NaN</td>\n      <td>4380.98</td>\n      <td>3241.60</td>\n      <td>81629.80</td>\n      <td>NaN</td>\n      <td>6303.06</td>\n      <td>3982.30</td>\n      <td>...</td>\n      <td>NaN</td>\n      <td>2126.20</td>\n      <td>NaN</td>\n      <td>2084.89</td>\n      <td>1730.30</td>\n      <td>2150.32</td>\n      <td>2037.10</td>\n      <td>NaN</td>\n      <td>2802.18</td>\n      <td>NaN</td>\n    </tr>\n    <tr>\n      <th>9940</th>\n      <td>NaN</td>\n      <td>NaN</td>\n      <td>NaN</td>\n      <td>NaN</td>\n      <td>16563.10</td>\n      <td>NaN</td>\n      <td>NaN</td>\n      <td>NaN</td>\n      <td>9971.33</td>\n      <td>NaN</td>\n      <td>...</td>\n      <td>5551.50</td>\n      <td>6166.95</td>\n      <td>26912.9</td>\n      <td>6378.28</td>\n      <td>7256.30</td>\n      <td>10792.60</td>\n      <td>25324.90</td>\n      <td>NaN</td>\n      <td>32759.30</td>\n      <td>34983.9</td>\n    </tr>\n    <tr>\n      <th>9941</th>\n      <td>NaN</td>\n      <td>NaN</td>\n      <td>NaN</td>\n      <td>NaN</td>\n      <td>NaN</td>\n      <td>NaN</td>\n      <td>NaN</td>\n      <td>NaN</td>\n      <td>3315.15</td>\n      <td>NaN</td>\n      <td>...</td>\n      <td>2297.77</td>\n      <td>2757.29</td>\n      <td>11673.6</td>\n      <td>2293.69</td>\n      <td>2747.83</td>\n      <td>NaN</td>\n      <td>2483.38</td>\n      <td>2167.30</td>\n      <td>NaN</td>\n      <td>NaN</td>\n    </tr>\n  </tbody>\n</table>\n<p>9942 rows × 263 columns</p>\n</div>"
     },
     "execution_count": 4,
     "metadata": {},
     "output_type": "execute_result"
    }
   ],
   "source": [
    "quant_matrix.quantitative_data.to_df()"
   ],
   "metadata": {
    "collapsed": false,
    "pycharm": {
     "name": "#%%\n"
    }
   }
  },
  {
   "cell_type": "code",
   "execution_count": 5,
   "outputs": [],
   "source": [
    "filtered = quant_matrix.filter()"
   ],
   "metadata": {
    "collapsed": false,
    "pycharm": {
     "name": "#%%\n"
    }
   }
  },
  {
   "cell_type": "code",
   "execution_count": 6,
   "outputs": [
    {
     "data": {
      "text/plain": "sample  CK_P1912_137.osw  CK_P1912_138.osw  CK_P1912_139.osw  \\\n0                29566.2           59295.7          24536.40   \n1                69900.3          195571.0         403947.00   \n2               115684.0          132524.0         217962.00   \n3                20763.7          204225.0         246195.00   \n4              2436210.0         2374450.0       10647700.00   \n...                  ...               ...               ...   \n9926                 NaN               NaN           4451.06   \n9927                 NaN               NaN           1884.85   \n9928                 NaN               NaN           2905.08   \n9929                 NaN               NaN           5263.47   \n9935                 NaN               NaN               NaN   \n\nsample  CK_P1912_141.osw  CK_P1912_142.osw  CK_P1912_143.osw  \\\n0                4560.66           3602.08           6541.75   \n1               97338.80        1783090.00         129273.00   \n2              389350.00         341367.00         243587.00   \n3                8090.90         223164.00         316190.00   \n4             2227900.00         838035.00        1234980.00   \n...                  ...               ...               ...   \n9926             2500.82           2634.45           2686.75   \n9927                 NaN               NaN           2154.94   \n9928             5044.73           4449.07               NaN   \n9929             2514.23           2709.59           3102.31   \n9935             3810.79           2570.46               NaN   \n\nsample  CK_P1912_144.osw  CK_P1912_146.osw  CK_P1912_147.osw  \\\n0               13721.20         346519.00           9474.49   \n1              165082.00          54614.50          90589.90   \n2              200729.00         495473.00         115075.00   \n3              369983.00         338755.00         354888.00   \n4             5115710.00        1001670.00        1026120.00   \n...                  ...               ...               ...   \n9926             2895.54           4024.53           6440.19   \n9927             3195.49           2378.63          10283.30   \n9928             5956.96           2292.95           2350.84   \n9929             2601.37           5464.54               NaN   \n9935            12291.40               NaN               NaN   \n\nsample  CK_P1912_148.osw  ...  TM_P1912_032.osw  TM_P1912_033.osw  \\\n0                8662.78  ...          38856.90         254237.00   \n1               50578.40  ...         225491.00         879293.00   \n2              411707.00  ...           7739.92         246843.00   \n3              343382.00  ...          93068.20               NaN   \n4             3570080.00  ...        1425850.00         221773.00   \n...                  ...  ...               ...               ...   \n9926           133671.00  ...          68989.70         317153.00   \n9927             3567.68  ...               NaN               NaN   \n9928             4955.65  ...          30784.50          43646.00   \n9929            20494.70  ...               NaN               NaN   \n9935             2388.52  ...               NaN           3367.03   \n\nsample  TM_P1912_034.osw  TM_P1912_038.osw  TM_P1912_039.osw  \\\n0              141695.00           7479.44          22168.10   \n1               73213.50         105865.00          94692.20   \n2              586981.00         580304.00          42384.40   \n3               21329.00         353393.00          41346.50   \n4             1312030.00         948220.00        7800350.00   \n...                  ...               ...               ...   \n9926           180323.00           3828.34           2592.92   \n9927                 NaN           1988.13               NaN   \n9928            27387.30           6960.97           5712.65   \n9929                 NaN               NaN           2990.37   \n9935             4364.14           3339.62               NaN   \n\nsample  TM_P1912_040.osw  TM_P1912_041.osw  TM_P1912_042.osw  \\\n0               50593.80           8202.58          12365.40   \n1              161677.00         434863.00         783570.00   \n2              119501.00         203521.00         288944.00   \n3               37029.40         388027.00         369886.00   \n4              444133.00        2531220.00        1507720.00   \n...                  ...               ...               ...   \n9926                 NaN          28365.40               NaN   \n9927             2188.42               NaN               NaN   \n9928             5029.44          10140.70           7471.48   \n9929                 NaN           2569.77               NaN   \n9935             3629.83           3983.19           4104.94   \n\nsample  TM_P1912_044.osw  TM_P1912_045.osw  \n0                3776.77          11512.00  \n1              325194.00        3750390.00  \n2              150333.00          65409.60  \n3              437082.00         166657.00  \n4              437906.00        7460460.00  \n...                  ...               ...  \n9926            21643.40          20616.20  \n9927             1948.99               NaN  \n9928            12097.00           4968.99  \n9929             2147.82           1969.91  \n9935             4457.05           3774.99  \n\n[4963 rows x 263 columns]",
      "text/html": "<div>\n<style scoped>\n    .dataframe tbody tr th:only-of-type {\n        vertical-align: middle;\n    }\n\n    .dataframe tbody tr th {\n        vertical-align: top;\n    }\n\n    .dataframe thead th {\n        text-align: right;\n    }\n</style>\n<table border=\"1\" class=\"dataframe\">\n  <thead>\n    <tr style=\"text-align: right;\">\n      <th>sample</th>\n      <th>CK_P1912_137.osw</th>\n      <th>CK_P1912_138.osw</th>\n      <th>CK_P1912_139.osw</th>\n      <th>CK_P1912_141.osw</th>\n      <th>CK_P1912_142.osw</th>\n      <th>CK_P1912_143.osw</th>\n      <th>CK_P1912_144.osw</th>\n      <th>CK_P1912_146.osw</th>\n      <th>CK_P1912_147.osw</th>\n      <th>CK_P1912_148.osw</th>\n      <th>...</th>\n      <th>TM_P1912_032.osw</th>\n      <th>TM_P1912_033.osw</th>\n      <th>TM_P1912_034.osw</th>\n      <th>TM_P1912_038.osw</th>\n      <th>TM_P1912_039.osw</th>\n      <th>TM_P1912_040.osw</th>\n      <th>TM_P1912_041.osw</th>\n      <th>TM_P1912_042.osw</th>\n      <th>TM_P1912_044.osw</th>\n      <th>TM_P1912_045.osw</th>\n    </tr>\n  </thead>\n  <tbody>\n    <tr>\n      <th>0</th>\n      <td>29566.2</td>\n      <td>59295.7</td>\n      <td>24536.40</td>\n      <td>4560.66</td>\n      <td>3602.08</td>\n      <td>6541.75</td>\n      <td>13721.20</td>\n      <td>346519.00</td>\n      <td>9474.49</td>\n      <td>8662.78</td>\n      <td>...</td>\n      <td>38856.90</td>\n      <td>254237.00</td>\n      <td>141695.00</td>\n      <td>7479.44</td>\n      <td>22168.10</td>\n      <td>50593.80</td>\n      <td>8202.58</td>\n      <td>12365.40</td>\n      <td>3776.77</td>\n      <td>11512.00</td>\n    </tr>\n    <tr>\n      <th>1</th>\n      <td>69900.3</td>\n      <td>195571.0</td>\n      <td>403947.00</td>\n      <td>97338.80</td>\n      <td>1783090.00</td>\n      <td>129273.00</td>\n      <td>165082.00</td>\n      <td>54614.50</td>\n      <td>90589.90</td>\n      <td>50578.40</td>\n      <td>...</td>\n      <td>225491.00</td>\n      <td>879293.00</td>\n      <td>73213.50</td>\n      <td>105865.00</td>\n      <td>94692.20</td>\n      <td>161677.00</td>\n      <td>434863.00</td>\n      <td>783570.00</td>\n      <td>325194.00</td>\n      <td>3750390.00</td>\n    </tr>\n    <tr>\n      <th>2</th>\n      <td>115684.0</td>\n      <td>132524.0</td>\n      <td>217962.00</td>\n      <td>389350.00</td>\n      <td>341367.00</td>\n      <td>243587.00</td>\n      <td>200729.00</td>\n      <td>495473.00</td>\n      <td>115075.00</td>\n      <td>411707.00</td>\n      <td>...</td>\n      <td>7739.92</td>\n      <td>246843.00</td>\n      <td>586981.00</td>\n      <td>580304.00</td>\n      <td>42384.40</td>\n      <td>119501.00</td>\n      <td>203521.00</td>\n      <td>288944.00</td>\n      <td>150333.00</td>\n      <td>65409.60</td>\n    </tr>\n    <tr>\n      <th>3</th>\n      <td>20763.7</td>\n      <td>204225.0</td>\n      <td>246195.00</td>\n      <td>8090.90</td>\n      <td>223164.00</td>\n      <td>316190.00</td>\n      <td>369983.00</td>\n      <td>338755.00</td>\n      <td>354888.00</td>\n      <td>343382.00</td>\n      <td>...</td>\n      <td>93068.20</td>\n      <td>NaN</td>\n      <td>21329.00</td>\n      <td>353393.00</td>\n      <td>41346.50</td>\n      <td>37029.40</td>\n      <td>388027.00</td>\n      <td>369886.00</td>\n      <td>437082.00</td>\n      <td>166657.00</td>\n    </tr>\n    <tr>\n      <th>4</th>\n      <td>2436210.0</td>\n      <td>2374450.0</td>\n      <td>10647700.00</td>\n      <td>2227900.00</td>\n      <td>838035.00</td>\n      <td>1234980.00</td>\n      <td>5115710.00</td>\n      <td>1001670.00</td>\n      <td>1026120.00</td>\n      <td>3570080.00</td>\n      <td>...</td>\n      <td>1425850.00</td>\n      <td>221773.00</td>\n      <td>1312030.00</td>\n      <td>948220.00</td>\n      <td>7800350.00</td>\n      <td>444133.00</td>\n      <td>2531220.00</td>\n      <td>1507720.00</td>\n      <td>437906.00</td>\n      <td>7460460.00</td>\n    </tr>\n    <tr>\n      <th>...</th>\n      <td>...</td>\n      <td>...</td>\n      <td>...</td>\n      <td>...</td>\n      <td>...</td>\n      <td>...</td>\n      <td>...</td>\n      <td>...</td>\n      <td>...</td>\n      <td>...</td>\n      <td>...</td>\n      <td>...</td>\n      <td>...</td>\n      <td>...</td>\n      <td>...</td>\n      <td>...</td>\n      <td>...</td>\n      <td>...</td>\n      <td>...</td>\n      <td>...</td>\n      <td>...</td>\n    </tr>\n    <tr>\n      <th>9926</th>\n      <td>NaN</td>\n      <td>NaN</td>\n      <td>4451.06</td>\n      <td>2500.82</td>\n      <td>2634.45</td>\n      <td>2686.75</td>\n      <td>2895.54</td>\n      <td>4024.53</td>\n      <td>6440.19</td>\n      <td>133671.00</td>\n      <td>...</td>\n      <td>68989.70</td>\n      <td>317153.00</td>\n      <td>180323.00</td>\n      <td>3828.34</td>\n      <td>2592.92</td>\n      <td>NaN</td>\n      <td>28365.40</td>\n      <td>NaN</td>\n      <td>21643.40</td>\n      <td>20616.20</td>\n    </tr>\n    <tr>\n      <th>9927</th>\n      <td>NaN</td>\n      <td>NaN</td>\n      <td>1884.85</td>\n      <td>NaN</td>\n      <td>NaN</td>\n      <td>2154.94</td>\n      <td>3195.49</td>\n      <td>2378.63</td>\n      <td>10283.30</td>\n      <td>3567.68</td>\n      <td>...</td>\n      <td>NaN</td>\n      <td>NaN</td>\n      <td>NaN</td>\n      <td>1988.13</td>\n      <td>NaN</td>\n      <td>2188.42</td>\n      <td>NaN</td>\n      <td>NaN</td>\n      <td>1948.99</td>\n      <td>NaN</td>\n    </tr>\n    <tr>\n      <th>9928</th>\n      <td>NaN</td>\n      <td>NaN</td>\n      <td>2905.08</td>\n      <td>5044.73</td>\n      <td>4449.07</td>\n      <td>NaN</td>\n      <td>5956.96</td>\n      <td>2292.95</td>\n      <td>2350.84</td>\n      <td>4955.65</td>\n      <td>...</td>\n      <td>30784.50</td>\n      <td>43646.00</td>\n      <td>27387.30</td>\n      <td>6960.97</td>\n      <td>5712.65</td>\n      <td>5029.44</td>\n      <td>10140.70</td>\n      <td>7471.48</td>\n      <td>12097.00</td>\n      <td>4968.99</td>\n    </tr>\n    <tr>\n      <th>9929</th>\n      <td>NaN</td>\n      <td>NaN</td>\n      <td>5263.47</td>\n      <td>2514.23</td>\n      <td>2709.59</td>\n      <td>3102.31</td>\n      <td>2601.37</td>\n      <td>5464.54</td>\n      <td>NaN</td>\n      <td>20494.70</td>\n      <td>...</td>\n      <td>NaN</td>\n      <td>NaN</td>\n      <td>NaN</td>\n      <td>NaN</td>\n      <td>2990.37</td>\n      <td>NaN</td>\n      <td>2569.77</td>\n      <td>NaN</td>\n      <td>2147.82</td>\n      <td>1969.91</td>\n    </tr>\n    <tr>\n      <th>9935</th>\n      <td>NaN</td>\n      <td>NaN</td>\n      <td>NaN</td>\n      <td>3810.79</td>\n      <td>2570.46</td>\n      <td>NaN</td>\n      <td>12291.40</td>\n      <td>NaN</td>\n      <td>NaN</td>\n      <td>2388.52</td>\n      <td>...</td>\n      <td>NaN</td>\n      <td>3367.03</td>\n      <td>4364.14</td>\n      <td>3339.62</td>\n      <td>NaN</td>\n      <td>3629.83</td>\n      <td>3983.19</td>\n      <td>4104.94</td>\n      <td>4457.05</td>\n      <td>3774.99</td>\n    </tr>\n  </tbody>\n</table>\n<p>4963 rows × 263 columns</p>\n</div>"
     },
     "execution_count": 6,
     "metadata": {},
     "output_type": "execute_result"
    }
   ],
   "source": [
    "filtered.quantitative_data.to_df()"
   ],
   "metadata": {
    "collapsed": false,
    "pycharm": {
     "name": "#%%\n"
    }
   }
  },
  {
   "cell_type": "code",
   "execution_count": 7,
   "outputs": [
    {
     "data": {
      "text/plain": "                                        PeptideSequence  Charge  Decoy  \\\n0        .(UniMod:1)SSSGTPDLPVLLTDLKIQYTKIFINNEWHDSVSGK       4      0   \n1                                             EFMEEVIQR       2      0   \n2                           .(UniMod:1)SSSGTPDLPVLLTDLK       2      0   \n3                                 HRPRPYPPNVGEEIQIGHIPR       4      0   \n4     HSDFASNC(UniMod:4)C(UniMod:4)SINSPPLYC(UniMod:...       3      0   \n...                                                 ...     ...    ...   \n9926                                IGHENGEFQIFLDALDKIK       4      0   \n9927                                       PVWLGFLGPIIK       3      0   \n9928                               C(UniMod:4)EPLEKQHEK       2      0   \n9929                                      GLTIFPEELIIGR       3      0   \n9935                          WEDPGKQLYNVEATSYALLALLQLK       4      0   \n\n     Protein  RetentionTime  PeptideQValue  ProteinQValue  \n0     P00352       5736.150       0.000008       0.000117  \n1     P04275       3155.500       0.000009       0.000117  \n2     P00352       5386.690       0.000008       0.000117  \n3     P02751       2440.430       0.001087       0.000117  \n4     P02774       3696.810       0.000008       0.000117  \n...      ...            ...            ...            ...  \n9926  P07451       4477.010       0.000009       0.000117  \n9927  P00450       5491.120       0.000008       0.000117  \n9928  P02763        607.752       0.000009       0.000117  \n9929  P08319       4921.955       0.000009       0.000117  \n9935  P01024       6044.485       0.000008       0.000117  \n\n[4963 rows x 7 columns]",
      "text/html": "<div>\n<style scoped>\n    .dataframe tbody tr th:only-of-type {\n        vertical-align: middle;\n    }\n\n    .dataframe tbody tr th {\n        vertical-align: top;\n    }\n\n    .dataframe thead th {\n        text-align: right;\n    }\n</style>\n<table border=\"1\" class=\"dataframe\">\n  <thead>\n    <tr style=\"text-align: right;\">\n      <th></th>\n      <th>PeptideSequence</th>\n      <th>Charge</th>\n      <th>Decoy</th>\n      <th>Protein</th>\n      <th>RetentionTime</th>\n      <th>PeptideQValue</th>\n      <th>ProteinQValue</th>\n    </tr>\n  </thead>\n  <tbody>\n    <tr>\n      <th>0</th>\n      <td>.(UniMod:1)SSSGTPDLPVLLTDLKIQYTKIFINNEWHDSVSGK</td>\n      <td>4</td>\n      <td>0</td>\n      <td>P00352</td>\n      <td>5736.150</td>\n      <td>0.000008</td>\n      <td>0.000117</td>\n    </tr>\n    <tr>\n      <th>1</th>\n      <td>EFMEEVIQR</td>\n      <td>2</td>\n      <td>0</td>\n      <td>P04275</td>\n      <td>3155.500</td>\n      <td>0.000009</td>\n      <td>0.000117</td>\n    </tr>\n    <tr>\n      <th>2</th>\n      <td>.(UniMod:1)SSSGTPDLPVLLTDLK</td>\n      <td>2</td>\n      <td>0</td>\n      <td>P00352</td>\n      <td>5386.690</td>\n      <td>0.000008</td>\n      <td>0.000117</td>\n    </tr>\n    <tr>\n      <th>3</th>\n      <td>HRPRPYPPNVGEEIQIGHIPR</td>\n      <td>4</td>\n      <td>0</td>\n      <td>P02751</td>\n      <td>2440.430</td>\n      <td>0.001087</td>\n      <td>0.000117</td>\n    </tr>\n    <tr>\n      <th>4</th>\n      <td>HSDFASNC(UniMod:4)C(UniMod:4)SINSPPLYC(UniMod:...</td>\n      <td>3</td>\n      <td>0</td>\n      <td>P02774</td>\n      <td>3696.810</td>\n      <td>0.000008</td>\n      <td>0.000117</td>\n    </tr>\n    <tr>\n      <th>...</th>\n      <td>...</td>\n      <td>...</td>\n      <td>...</td>\n      <td>...</td>\n      <td>...</td>\n      <td>...</td>\n      <td>...</td>\n    </tr>\n    <tr>\n      <th>9926</th>\n      <td>IGHENGEFQIFLDALDKIK</td>\n      <td>4</td>\n      <td>0</td>\n      <td>P07451</td>\n      <td>4477.010</td>\n      <td>0.000009</td>\n      <td>0.000117</td>\n    </tr>\n    <tr>\n      <th>9927</th>\n      <td>PVWLGFLGPIIK</td>\n      <td>3</td>\n      <td>0</td>\n      <td>P00450</td>\n      <td>5491.120</td>\n      <td>0.000008</td>\n      <td>0.000117</td>\n    </tr>\n    <tr>\n      <th>9928</th>\n      <td>C(UniMod:4)EPLEKQHEK</td>\n      <td>2</td>\n      <td>0</td>\n      <td>P02763</td>\n      <td>607.752</td>\n      <td>0.000009</td>\n      <td>0.000117</td>\n    </tr>\n    <tr>\n      <th>9929</th>\n      <td>GLTIFPEELIIGR</td>\n      <td>3</td>\n      <td>0</td>\n      <td>P08319</td>\n      <td>4921.955</td>\n      <td>0.000009</td>\n      <td>0.000117</td>\n    </tr>\n    <tr>\n      <th>9935</th>\n      <td>WEDPGKQLYNVEATSYALLALLQLK</td>\n      <td>4</td>\n      <td>0</td>\n      <td>P01024</td>\n      <td>6044.485</td>\n      <td>0.000008</td>\n      <td>0.000117</td>\n    </tr>\n  </tbody>\n</table>\n<p>4963 rows × 7 columns</p>\n</div>"
     },
     "execution_count": 7,
     "metadata": {},
     "output_type": "execute_result"
    }
   ],
   "source": [
    "quant_matrix.quantitative_data.obs"
   ],
   "metadata": {
    "collapsed": false,
    "pycharm": {
     "name": "#%%\n"
    }
   }
  },
  {
   "cell_type": "code",
   "execution_count": 8,
   "outputs": [],
   "source": [
    "test = quant_matrix.quantitative_data.X"
   ],
   "metadata": {
    "collapsed": false,
    "pycharm": {
     "name": "#%%\n"
    }
   }
  },
  {
   "cell_type": "code",
   "execution_count": 9,
   "outputs": [],
   "source": [
    "from dpks.normalization import TicNormalization"
   ],
   "metadata": {
    "collapsed": false,
    "pycharm": {
     "name": "#%%\n"
    }
   }
  },
  {
   "cell_type": "code",
   "execution_count": 10,
   "outputs": [
    {
     "data": {
      "text/plain": "array([[14.81221541, 15.92721091, 14.32432287, ..., 13.64622362,\n        11.64833451, 13.52525067],\n       [16.05356522, 17.64890397, 18.36549339, ..., 19.63190497,\n        18.07633842, 21.87300899],\n       [16.78038401, 17.08746517, 17.47540401, ..., 18.19263271,\n        16.96319951, 16.03161456],\n       ...,\n       [        nan,         nan, 11.24604908, ..., 12.91938066,\n        13.32775899, 12.31313672],\n       [        nan,         nan, 12.10348541, ...,         nan,\n        10.83405468, 10.9783138 ],\n       [        nan,         nan,         nan, ..., 12.05534775,\n        11.88727073, 11.9166569 ]])"
     },
     "execution_count": 10,
     "metadata": {},
     "output_type": "execute_result"
    }
   ],
   "source": [
    "TicNormalization().fit_transform(test)"
   ],
   "metadata": {
    "collapsed": false,
    "pycharm": {
     "name": "#%%\n"
    }
   }
  },
  {
   "cell_type": "code",
   "execution_count": null,
   "outputs": [],
   "source": [],
   "metadata": {
    "collapsed": false,
    "pycharm": {
     "name": "#%%\n"
    }
   }
  }
 ],
 "metadata": {
  "kernelspec": {
   "display_name": "Python 3",
   "language": "python",
   "name": "python3"
  },
  "language_info": {
   "codemirror_mode": {
    "name": "ipython",
    "version": 2
   },
   "file_extension": ".py",
   "mimetype": "text/x-python",
   "name": "python",
   "nbconvert_exporter": "python",
   "pygments_lexer": "ipython2",
   "version": "2.7.6"
  }
 },
 "nbformat": 4,
 "nbformat_minor": 0
}