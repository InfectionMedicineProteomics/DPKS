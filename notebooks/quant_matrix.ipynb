{
 "cells": [
  {
   "cell_type": "code",
   "execution_count": 1,
   "metadata": {
    "collapsed": true
   },
   "outputs": [],
   "source": [
    "from dpks.quant_matrix import QuantMatrix"
   ]
  },
  {
   "cell_type": "code",
   "execution_count": 2,
   "outputs": [],
   "source": [
    "quant_matrix = QuantMatrix(\n",
    "    quantification_file=\"../tests/input_files/pyprophet_baseline_matrix.tsv\",\n",
    "    design_matrix_file=\"../tests/input_files/design_matrix.tsv\"\n",
    ")"
   ],
   "metadata": {
    "collapsed": false,
    "pycharm": {
     "name": "#%%\n"
    }
   }
  },
  {
   "cell_type": "code",
   "execution_count": 3,
   "outputs": [],
   "source": [
    "quantified_proteins = (\n",
    "    quant_matrix.filter()\n",
    "        .normalize(method=\"mean\")\n",
    "        .quantify(method=\"top_n\", top_n=1)\n",
    ")"
   ],
   "metadata": {
    "collapsed": false,
    "pycharm": {
     "name": "#%%\n"
    }
   }
  },
  {
   "cell_type": "code",
   "execution_count": 4,
   "outputs": [
    {
     "data": {
      "text/plain": "        Protein  CK_P1912_137.osw  CK_P1912_138.osw  CK_P1912_139.osw  \\\n0        P00352         24.573016         22.561983         25.444063   \n1        P04275         23.429606         25.023413         26.295086   \n2        P02751         25.341705         25.192933         25.744358   \n3        P02774         27.161679         26.953003         26.874645   \n4        P10645         20.302929         20.763371         20.921694   \n..          ...               ...               ...               ...   \n255      P78417         19.006644         17.744890         19.270414   \n256      P04179         20.321964         17.458193         20.588446   \n257      P07437         18.604132         16.527257         17.275223   \n258      P06331         21.441936         21.151368         18.702880   \n259  A0A087WSY4         19.556215         19.039759         19.353962   \n\n     CK_P1912_141.osw  CK_P1912_142.osw  CK_P1912_143.osw  CK_P1912_144.osw  \\\n0           25.049748         24.708871         24.432113         22.692999   \n1           24.296879         26.355271         25.228910         22.937982   \n2           24.857767         25.896004         24.875541         26.360782   \n3           26.780166         27.035358         26.814659         26.954435   \n4           20.607111         21.105668         21.003801         20.013399   \n..                ...               ...               ...               ...   \n255         18.180235         18.741458         17.894078         19.251031   \n256         17.863850         20.221278         20.385660         18.715842   \n257         13.896278         16.430498         14.114635         13.056476   \n258         21.189549         20.030420         19.354198         19.940653   \n259         19.194868         17.985637         18.429379         19.312936   \n\n     CK_P1912_146.osw  CK_P1912_147.osw  ...  TM_P1912_032.osw  \\\n0           22.801665         23.837047  ...         25.590617   \n1           25.591765         25.051448  ...         25.493796   \n2           26.989457         24.137508  ...         25.810332   \n3           26.795846         26.820193  ...         27.211913   \n4           20.938162         21.127788  ...         21.112401   \n..                ...               ...  ...               ...   \n255         19.289950         16.359242  ...         19.234392   \n256         20.231814         20.470332  ...         19.963746   \n257         17.617771         17.115761  ...         18.099303   \n258         21.993783         19.281312  ...         18.561723   \n259         18.264071         17.635684  ...         15.833904   \n\n     TM_P1912_033.osw  TM_P1912_034.osw  TM_P1912_038.osw  TM_P1912_039.osw  \\\n0           23.491632         23.117955         23.456820         24.779368   \n1           22.903298         23.239913         25.372774         23.691828   \n2           26.082163         24.460420         25.663327         26.562108   \n3           27.348635         27.766817         27.238147         27.223938   \n4           21.365610         20.869084         21.130890         21.409711   \n..                ...               ...               ...               ...   \n255         15.072244         20.785885         20.887237         18.958537   \n256         19.881447         18.588879         19.779547         18.128449   \n257         16.946377         14.769685         13.028976         16.972077   \n258         19.570226         19.489820         19.725450         19.934744   \n259         18.188131         18.887023         19.292871         18.458673   \n\n     TM_P1912_040.osw  TM_P1912_041.osw  TM_P1912_042.osw  TM_P1912_044.osw  \\\n0           24.586480         24.705624         23.178993         23.440761   \n1           23.280812         24.018364         25.558509         25.113961   \n2           28.509460         25.890544         28.681287         25.731470   \n3           27.455964         27.529699         27.599640         27.594304   \n4           22.476695         20.392605         21.304092         22.087297   \n..                ...               ...               ...               ...   \n255         20.593188         20.862338         20.004905         20.831285   \n256         19.534575         18.626081         19.522354         19.626863   \n257         15.338919         17.582428         16.226310         15.284317   \n258         18.505711         20.188817         20.305903         20.107252   \n259         19.275772         16.872269         18.947685         19.258314   \n\n     TM_P1912_045.osw  \n0           22.689487  \n1           27.068720  \n2           28.717742  \n3           27.118265  \n4           20.826167  \n..                ...  \n255         20.365667  \n256         20.600142  \n257         16.844010  \n258         19.989171  \n259         18.732850  \n\n[260 rows x 264 columns]",
      "text/html": "<div>\n<style scoped>\n    .dataframe tbody tr th:only-of-type {\n        vertical-align: middle;\n    }\n\n    .dataframe tbody tr th {\n        vertical-align: top;\n    }\n\n    .dataframe thead th {\n        text-align: right;\n    }\n</style>\n<table border=\"1\" class=\"dataframe\">\n  <thead>\n    <tr style=\"text-align: right;\">\n      <th></th>\n      <th>Protein</th>\n      <th>CK_P1912_137.osw</th>\n      <th>CK_P1912_138.osw</th>\n      <th>CK_P1912_139.osw</th>\n      <th>CK_P1912_141.osw</th>\n      <th>CK_P1912_142.osw</th>\n      <th>CK_P1912_143.osw</th>\n      <th>CK_P1912_144.osw</th>\n      <th>CK_P1912_146.osw</th>\n      <th>CK_P1912_147.osw</th>\n      <th>...</th>\n      <th>TM_P1912_032.osw</th>\n      <th>TM_P1912_033.osw</th>\n      <th>TM_P1912_034.osw</th>\n      <th>TM_P1912_038.osw</th>\n      <th>TM_P1912_039.osw</th>\n      <th>TM_P1912_040.osw</th>\n      <th>TM_P1912_041.osw</th>\n      <th>TM_P1912_042.osw</th>\n      <th>TM_P1912_044.osw</th>\n      <th>TM_P1912_045.osw</th>\n    </tr>\n  </thead>\n  <tbody>\n    <tr>\n      <th>0</th>\n      <td>P00352</td>\n      <td>24.573016</td>\n      <td>22.561983</td>\n      <td>25.444063</td>\n      <td>25.049748</td>\n      <td>24.708871</td>\n      <td>24.432113</td>\n      <td>22.692999</td>\n      <td>22.801665</td>\n      <td>23.837047</td>\n      <td>...</td>\n      <td>25.590617</td>\n      <td>23.491632</td>\n      <td>23.117955</td>\n      <td>23.456820</td>\n      <td>24.779368</td>\n      <td>24.586480</td>\n      <td>24.705624</td>\n      <td>23.178993</td>\n      <td>23.440761</td>\n      <td>22.689487</td>\n    </tr>\n    <tr>\n      <th>1</th>\n      <td>P04275</td>\n      <td>23.429606</td>\n      <td>25.023413</td>\n      <td>26.295086</td>\n      <td>24.296879</td>\n      <td>26.355271</td>\n      <td>25.228910</td>\n      <td>22.937982</td>\n      <td>25.591765</td>\n      <td>25.051448</td>\n      <td>...</td>\n      <td>25.493796</td>\n      <td>22.903298</td>\n      <td>23.239913</td>\n      <td>25.372774</td>\n      <td>23.691828</td>\n      <td>23.280812</td>\n      <td>24.018364</td>\n      <td>25.558509</td>\n      <td>25.113961</td>\n      <td>27.068720</td>\n    </tr>\n    <tr>\n      <th>2</th>\n      <td>P02751</td>\n      <td>25.341705</td>\n      <td>25.192933</td>\n      <td>25.744358</td>\n      <td>24.857767</td>\n      <td>25.896004</td>\n      <td>24.875541</td>\n      <td>26.360782</td>\n      <td>26.989457</td>\n      <td>24.137508</td>\n      <td>...</td>\n      <td>25.810332</td>\n      <td>26.082163</td>\n      <td>24.460420</td>\n      <td>25.663327</td>\n      <td>26.562108</td>\n      <td>28.509460</td>\n      <td>25.890544</td>\n      <td>28.681287</td>\n      <td>25.731470</td>\n      <td>28.717742</td>\n    </tr>\n    <tr>\n      <th>3</th>\n      <td>P02774</td>\n      <td>27.161679</td>\n      <td>26.953003</td>\n      <td>26.874645</td>\n      <td>26.780166</td>\n      <td>27.035358</td>\n      <td>26.814659</td>\n      <td>26.954435</td>\n      <td>26.795846</td>\n      <td>26.820193</td>\n      <td>...</td>\n      <td>27.211913</td>\n      <td>27.348635</td>\n      <td>27.766817</td>\n      <td>27.238147</td>\n      <td>27.223938</td>\n      <td>27.455964</td>\n      <td>27.529699</td>\n      <td>27.599640</td>\n      <td>27.594304</td>\n      <td>27.118265</td>\n    </tr>\n    <tr>\n      <th>4</th>\n      <td>P10645</td>\n      <td>20.302929</td>\n      <td>20.763371</td>\n      <td>20.921694</td>\n      <td>20.607111</td>\n      <td>21.105668</td>\n      <td>21.003801</td>\n      <td>20.013399</td>\n      <td>20.938162</td>\n      <td>21.127788</td>\n      <td>...</td>\n      <td>21.112401</td>\n      <td>21.365610</td>\n      <td>20.869084</td>\n      <td>21.130890</td>\n      <td>21.409711</td>\n      <td>22.476695</td>\n      <td>20.392605</td>\n      <td>21.304092</td>\n      <td>22.087297</td>\n      <td>20.826167</td>\n    </tr>\n    <tr>\n      <th>...</th>\n      <td>...</td>\n      <td>...</td>\n      <td>...</td>\n      <td>...</td>\n      <td>...</td>\n      <td>...</td>\n      <td>...</td>\n      <td>...</td>\n      <td>...</td>\n      <td>...</td>\n      <td>...</td>\n      <td>...</td>\n      <td>...</td>\n      <td>...</td>\n      <td>...</td>\n      <td>...</td>\n      <td>...</td>\n      <td>...</td>\n      <td>...</td>\n      <td>...</td>\n      <td>...</td>\n    </tr>\n    <tr>\n      <th>255</th>\n      <td>P78417</td>\n      <td>19.006644</td>\n      <td>17.744890</td>\n      <td>19.270414</td>\n      <td>18.180235</td>\n      <td>18.741458</td>\n      <td>17.894078</td>\n      <td>19.251031</td>\n      <td>19.289950</td>\n      <td>16.359242</td>\n      <td>...</td>\n      <td>19.234392</td>\n      <td>15.072244</td>\n      <td>20.785885</td>\n      <td>20.887237</td>\n      <td>18.958537</td>\n      <td>20.593188</td>\n      <td>20.862338</td>\n      <td>20.004905</td>\n      <td>20.831285</td>\n      <td>20.365667</td>\n    </tr>\n    <tr>\n      <th>256</th>\n      <td>P04179</td>\n      <td>20.321964</td>\n      <td>17.458193</td>\n      <td>20.588446</td>\n      <td>17.863850</td>\n      <td>20.221278</td>\n      <td>20.385660</td>\n      <td>18.715842</td>\n      <td>20.231814</td>\n      <td>20.470332</td>\n      <td>...</td>\n      <td>19.963746</td>\n      <td>19.881447</td>\n      <td>18.588879</td>\n      <td>19.779547</td>\n      <td>18.128449</td>\n      <td>19.534575</td>\n      <td>18.626081</td>\n      <td>19.522354</td>\n      <td>19.626863</td>\n      <td>20.600142</td>\n    </tr>\n    <tr>\n      <th>257</th>\n      <td>P07437</td>\n      <td>18.604132</td>\n      <td>16.527257</td>\n      <td>17.275223</td>\n      <td>13.896278</td>\n      <td>16.430498</td>\n      <td>14.114635</td>\n      <td>13.056476</td>\n      <td>17.617771</td>\n      <td>17.115761</td>\n      <td>...</td>\n      <td>18.099303</td>\n      <td>16.946377</td>\n      <td>14.769685</td>\n      <td>13.028976</td>\n      <td>16.972077</td>\n      <td>15.338919</td>\n      <td>17.582428</td>\n      <td>16.226310</td>\n      <td>15.284317</td>\n      <td>16.844010</td>\n    </tr>\n    <tr>\n      <th>258</th>\n      <td>P06331</td>\n      <td>21.441936</td>\n      <td>21.151368</td>\n      <td>18.702880</td>\n      <td>21.189549</td>\n      <td>20.030420</td>\n      <td>19.354198</td>\n      <td>19.940653</td>\n      <td>21.993783</td>\n      <td>19.281312</td>\n      <td>...</td>\n      <td>18.561723</td>\n      <td>19.570226</td>\n      <td>19.489820</td>\n      <td>19.725450</td>\n      <td>19.934744</td>\n      <td>18.505711</td>\n      <td>20.188817</td>\n      <td>20.305903</td>\n      <td>20.107252</td>\n      <td>19.989171</td>\n    </tr>\n    <tr>\n      <th>259</th>\n      <td>A0A087WSY4</td>\n      <td>19.556215</td>\n      <td>19.039759</td>\n      <td>19.353962</td>\n      <td>19.194868</td>\n      <td>17.985637</td>\n      <td>18.429379</td>\n      <td>19.312936</td>\n      <td>18.264071</td>\n      <td>17.635684</td>\n      <td>...</td>\n      <td>15.833904</td>\n      <td>18.188131</td>\n      <td>18.887023</td>\n      <td>19.292871</td>\n      <td>18.458673</td>\n      <td>19.275772</td>\n      <td>16.872269</td>\n      <td>18.947685</td>\n      <td>19.258314</td>\n      <td>18.732850</td>\n    </tr>\n  </tbody>\n</table>\n<p>260 rows × 264 columns</p>\n</div>"
     },
     "execution_count": 4,
     "metadata": {},
     "output_type": "execute_result"
    }
   ],
   "source": [
    "quantified_proteins.to_df()"
   ],
   "metadata": {
    "collapsed": false,
    "pycharm": {
     "name": "#%%\n"
    }
   }
  },
  {
   "cell_type": "code",
   "execution_count": null,
   "outputs": [],
   "source": [],
   "metadata": {
    "collapsed": false,
    "pycharm": {
     "name": "#%%\n"
    }
   }
  }
 ],
 "metadata": {
  "kernelspec": {
   "display_name": "Python 3",
   "language": "python",
   "name": "python3"
  },
  "language_info": {
   "codemirror_mode": {
    "name": "ipython",
    "version": 2
   },
   "file_extension": ".py",
   "mimetype": "text/x-python",
   "name": "python",
   "nbconvert_exporter": "python",
   "pygments_lexer": "ipython2",
   "version": "2.7.6"
  }
 },
 "nbformat": 4,
 "nbformat_minor": 0
}