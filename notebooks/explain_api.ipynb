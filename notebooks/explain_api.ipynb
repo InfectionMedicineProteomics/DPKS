{
 "cells": [
  {
   "cell_type": "code",
   "metadata": {
    "ExecuteTime": {
     "end_time": "2024-06-20T09:31:46.460462Z",
     "start_time": "2024-06-20T09:31:45.832065Z"
    }
   },
   "source": [
    "from dpks.quant_matrix import QuantMatrix\n",
    "\n",
    "import pandas as pd\n",
    "import numpy as np"
   ],
   "outputs": [],
   "execution_count": 1
  },
  {
   "cell_type": "code",
   "metadata": {
    "ExecuteTime": {
     "end_time": "2024-06-20T09:31:47.932224Z",
     "start_time": "2024-06-20T09:31:47.921010Z"
    }
   },
   "source": [
    "design_matrix = pd.read_csv(\n",
    "    \"../tests/input_files/design_sepsis.tsv\",\n",
    "    sep=\"\\t\"\n",
    ")"
   ],
   "outputs": [],
   "execution_count": 2
  },
  {
   "cell_type": "code",
   "metadata": {
    "ExecuteTime": {
     "end_time": "2024-06-20T09:31:48.283188Z",
     "start_time": "2024-06-20T09:31:48.271103Z"
    }
   },
   "source": [
    "design_matrix = design_matrix.sort_values(\"group\", ascending=False).reset_index(drop=True)"
   ],
   "outputs": [],
   "execution_count": 3
  },
  {
   "cell_type": "code",
   "metadata": {
    "ExecuteTime": {
     "end_time": "2024-06-20T09:31:48.589417Z",
     "start_time": "2024-06-20T09:31:48.584107Z"
    }
   },
   "source": [
    "design_matrix['sample_num'] = design_matrix.index.values"
   ],
   "outputs": [],
   "execution_count": 4
  },
  {
   "cell_type": "markdown",
   "metadata": {},
   "source": [
    "Now, we simulate 3 groups in the data so we can perform multiple rounds of explanations"
   ]
  },
  {
   "cell_type": "code",
   "metadata": {
    "ExecuteTime": {
     "end_time": "2024-06-20T09:31:52.134386Z",
     "start_time": "2024-06-20T09:31:52.129694Z"
    }
   },
   "source": [
    "design_matrix['group'] = np.where(\n",
    "    design_matrix['sample_num'] < 50, 3, design_matrix['group']\n",
    ")"
   ],
   "outputs": [],
   "execution_count": 5
  },
  {
   "cell_type": "code",
   "metadata": {
    "ExecuteTime": {
     "end_time": "2024-06-20T09:31:52.539483Z",
     "start_time": "2024-06-20T09:31:52.528502Z"
    }
   },
   "source": [
    "design_matrix['group'].value_counts()"
   ],
   "outputs": [
    {
     "data": {
      "text/plain": [
       "group\n",
       "1    74\n",
       "2    73\n",
       "3    50\n",
       "Name: count, dtype: int64"
      ]
     },
     "execution_count": 6,
     "metadata": {},
     "output_type": "execute_result"
    }
   ],
   "execution_count": 6
  },
  {
   "cell_type": "code",
   "metadata": {
    "ExecuteTime": {
     "end_time": "2024-06-20T09:31:54.246231Z",
     "start_time": "2024-06-20T09:31:54.010678Z"
    }
   },
   "source": [
    "qm = QuantMatrix(\n",
    "    quantification_file=\"../tests/input_files/data_sepsis.tsv\",\n",
    "    design_matrix_file=design_matrix\n",
    ").filter()"
   ],
   "outputs": [],
   "execution_count": 7
  },
  {
   "cell_type": "code",
   "metadata": {
    "ExecuteTime": {
     "end_time": "2024-06-20T09:32:02.218935Z",
     "start_time": "2024-06-20T09:31:57.106895Z"
    }
   },
   "source": [
    "quantified_data = (\n",
    "    qm.normalize(\n",
    "        method=\"mean\",\n",
    "        use_rt_sliding_window_filter=True,\n",
    "        rt_unit=\"second\",\n",
    "        stride=5,\n",
    "        minimum_data_points=200,\n",
    "    )\n",
    ")"
   ],
   "outputs": [],
   "execution_count": 8
  },
  {
   "cell_type": "code",
   "metadata": {
    "ExecuteTime": {
     "end_time": "2024-06-20T09:32:41.338823Z",
     "start_time": "2024-06-20T09:32:03.106067Z"
    }
   },
   "source": [
    "quantified_data = (\n",
    "    quantified_data.quantify(\n",
    "        method=\"maxlfq\",\n",
    "        threads=4,\n",
    "        #top_n=5\n",
    "    )\n",
    "    .impute(\n",
    "        method=\"uniform_percentile\",\n",
    "        percentile=0.05\n",
    "    )\n",
    "    .compare(\n",
    "        method=\"linregress\",\n",
    "        min_samples_per_group=2,\n",
    "        comparisons=[(2, 1), (3, 1)]\n",
    "    )\n",
    ")"
   ],
   "outputs": [
    {
     "name": "stderr",
     "output_type": "stream",
     "text": [
      "/home/aaron/projects/dpks/DPKS/dpks/quantification.py:275: NumbaTypeSafetyWarning: \u001B[1m\u001B[1m\u001B[1munsafe cast from uint64 to int64. Precision may be lost.\u001B[0m\u001B[0m\u001B[0m\n",
      "  grouping = mask_group(groupings[group_idx])\n"
     ]
    }
   ],
   "execution_count": 9
  },
  {
   "cell_type": "code",
   "metadata": {
    "ExecuteTime": {
     "end_time": "2024-06-20T09:32:56.206800Z",
     "start_time": "2024-06-20T09:32:56.202630Z"
    }
   },
   "source": [
    "import xgboost\n",
    "\n",
    "clf = xgboost.XGBClassifier(\n",
    "    max_depth=2,\n",
    "    #subsample=0.5,\n",
    "    reg_lambda=2,\n",
    "    objective=\"binary:logistic\",\n",
    "    seed=42\n",
    ")"
   ],
   "outputs": [],
   "execution_count": 10
  },
  {
   "cell_type": "code",
   "metadata": {
    "ExecuteTime": {
     "end_time": "2024-06-20T09:33:33.912047Z",
     "start_time": "2024-06-20T09:33:02.099742Z"
    }
   },
   "source": [
    "quantified_data = quantified_data.explain(\n",
    "    clf,\n",
    "    comparisons=[(2, 1), (3, 1)],\n",
    "    n_iterations=10,\n",
    "    downsample_background=True\n",
    ")"
   ],
   "outputs": [],
   "execution_count": 11
  },
  {
   "cell_type": "code",
   "metadata": {
    "ExecuteTime": {
     "end_time": "2024-06-20T09:34:19.549806Z",
     "start_time": "2024-06-20T09:34:10.222926Z"
    }
   },
   "source": [
    "quantified_data = quantified_data.annotate()"
   ],
   "outputs": [],
   "execution_count": 13
  },
  {
   "cell_type": "code",
   "metadata": {
    "ExecuteTime": {
     "end_time": "2024-06-20T09:34:29.818876Z",
     "start_time": "2024-06-20T09:34:29.796276Z"
    }
   },
   "source": "quantified_data.row_annotations.sort_values(\"MeanImportance2-1\", ascending=False)",
   "outputs": [
    {
     "data": {
      "text/plain": [
       "    Protein  DEScore2-1  Group2Mean  Group1Mean  Group2Stdev  Group1Stdev  \\\n",
       "78   P05362    0.897970   20.044225   18.470762     1.233650     0.770893   \n",
       "151  P16070    1.056318   20.535027   19.460412     0.609436     0.539891   \n",
       "147  P08571    1.045212   21.107079   20.104399     0.615821     0.449466   \n",
       "338  Q06033    0.612527   22.366831   21.786368     0.476341     0.409579   \n",
       "459  P80188    1.029217   20.316739   17.840397     1.213003     2.137889   \n",
       "..      ...         ...         ...         ...          ...          ...   \n",
       "214  P28072    0.223531   15.647090   14.969354     2.026160     2.110968   \n",
       "213  P02655    0.074070   23.756954   23.552444     1.100918     0.677918   \n",
       "212  P05543    0.179881   20.271919   19.801139     1.119047     0.990934   \n",
       "211  P35749    0.022422   14.421859   14.481786     0.642077     0.609399   \n",
       "553  O00194    0.035288   14.322787   14.410264     0.427222     0.671945   \n",
       "\n",
       "     Log2FoldChange2-1     PValue2-1  Group2RepCounts  Group1RepCounts  ...  \\\n",
       "78            1.573463  3.132890e-16               73               74  ...   \n",
       "151           1.074615  1.761939e-21               73               74  ...   \n",
       "147           1.002680  2.152132e-21               73               74  ...   \n",
       "338           0.580464  7.473925e-13               73               74  ...   \n",
       "459           2.476342  1.465579e-14               73               74  ...   \n",
       "..                 ...           ...              ...              ...  ...   \n",
       "214           0.677737  5.052426e-02               73               74  ...   \n",
       "213           0.204510  1.794778e-01               73               74  ...   \n",
       "212           0.470779  8.148517e-03               73               74  ...   \n",
       "211          -0.059927  5.651676e-01               73               74  ...   \n",
       "553          -0.087477  3.518270e-01               73               74  ...   \n",
       "\n",
       "     Log2FoldChange3-1     PValue3-1  Group3RepCounts  CorrectedPValue3-1  \\\n",
       "78            1.451074  1.220863e-18               50        1.379575e-16   \n",
       "151           1.037115  7.571437e-17               50        4.277862e-15   \n",
       "147           1.033181  4.368335e-18               50        3.702164e-16   \n",
       "338           0.397065  2.676311e-07               50        1.620124e-06   \n",
       "459           2.809937  4.068578e-14               50        1.060960e-12   \n",
       "..                 ...           ...              ...                 ...   \n",
       "214           0.163972  6.341254e-01               50        4.683410e-01   \n",
       "213           0.029736  8.294893e-01               50        5.481421e-01   \n",
       "212           0.425511  2.881976e-02               50        4.322964e-02   \n",
       "211          -0.124852  2.153973e-01               50        2.108304e-01   \n",
       "553           0.029187  7.833608e-01               50        5.304927e-01   \n",
       "\n",
       "     -Log10CorrectedPValue3-1  MeanImportance2-1  MeanRank2-1  \\\n",
       "78                  15.860255           0.489644         4.20   \n",
       "151                 14.368773           0.414304         5.80   \n",
       "147                 15.431544           0.362852         6.70   \n",
       "338                  5.790452           0.315875         9.50   \n",
       "459                 11.974301           0.220844        40.45   \n",
       "..                        ...                ...          ...   \n",
       "214                  0.329438           0.000000       297.25   \n",
       "213                  0.261107           0.000000       297.25   \n",
       "212                  1.364218           0.000000       297.25   \n",
       "211                  0.676067           0.000000       297.25   \n",
       "553                  0.275321           0.000000       297.25   \n",
       "\n",
       "     MeanImportance3-1  MeanRank3-1      Gene  \n",
       "78            0.123357       176.50     ICAM1  \n",
       "151           0.018648       124.70      CD44  \n",
       "147           0.036370        67.95      CD14  \n",
       "338           0.000000       290.00     ITIH3  \n",
       "459           0.470006         5.70      LCN2  \n",
       "..                 ...          ...       ...  \n",
       "214           0.000000       290.00     PSMB6  \n",
       "213           0.000738       262.85     APOC2  \n",
       "212           0.000000       290.00  SERPINA7  \n",
       "211           0.000000       290.00     MYH11  \n",
       "553           0.000000       290.00    RAB27B  \n",
       "\n",
       "[554 rows x 25 columns]"
      ],
      "text/html": [
       "<div>\n",
       "<style scoped>\n",
       "    .dataframe tbody tr th:only-of-type {\n",
       "        vertical-align: middle;\n",
       "    }\n",
       "\n",
       "    .dataframe tbody tr th {\n",
       "        vertical-align: top;\n",
       "    }\n",
       "\n",
       "    .dataframe thead th {\n",
       "        text-align: right;\n",
       "    }\n",
       "</style>\n",
       "<table border=\"1\" class=\"dataframe\">\n",
       "  <thead>\n",
       "    <tr style=\"text-align: right;\">\n",
       "      <th></th>\n",
       "      <th>Protein</th>\n",
       "      <th>DEScore2-1</th>\n",
       "      <th>Group2Mean</th>\n",
       "      <th>Group1Mean</th>\n",
       "      <th>Group2Stdev</th>\n",
       "      <th>Group1Stdev</th>\n",
       "      <th>Log2FoldChange2-1</th>\n",
       "      <th>PValue2-1</th>\n",
       "      <th>Group2RepCounts</th>\n",
       "      <th>Group1RepCounts</th>\n",
       "      <th>...</th>\n",
       "      <th>Log2FoldChange3-1</th>\n",
       "      <th>PValue3-1</th>\n",
       "      <th>Group3RepCounts</th>\n",
       "      <th>CorrectedPValue3-1</th>\n",
       "      <th>-Log10CorrectedPValue3-1</th>\n",
       "      <th>MeanImportance2-1</th>\n",
       "      <th>MeanRank2-1</th>\n",
       "      <th>MeanImportance3-1</th>\n",
       "      <th>MeanRank3-1</th>\n",
       "      <th>Gene</th>\n",
       "    </tr>\n",
       "  </thead>\n",
       "  <tbody>\n",
       "    <tr>\n",
       "      <th>78</th>\n",
       "      <td>P05362</td>\n",
       "      <td>0.897970</td>\n",
       "      <td>20.044225</td>\n",
       "      <td>18.470762</td>\n",
       "      <td>1.233650</td>\n",
       "      <td>0.770893</td>\n",
       "      <td>1.573463</td>\n",
       "      <td>3.132890e-16</td>\n",
       "      <td>73</td>\n",
       "      <td>74</td>\n",
       "      <td>...</td>\n",
       "      <td>1.451074</td>\n",
       "      <td>1.220863e-18</td>\n",
       "      <td>50</td>\n",
       "      <td>1.379575e-16</td>\n",
       "      <td>15.860255</td>\n",
       "      <td>0.489644</td>\n",
       "      <td>4.20</td>\n",
       "      <td>0.123357</td>\n",
       "      <td>176.50</td>\n",
       "      <td>ICAM1</td>\n",
       "    </tr>\n",
       "    <tr>\n",
       "      <th>151</th>\n",
       "      <td>P16070</td>\n",
       "      <td>1.056318</td>\n",
       "      <td>20.535027</td>\n",
       "      <td>19.460412</td>\n",
       "      <td>0.609436</td>\n",
       "      <td>0.539891</td>\n",
       "      <td>1.074615</td>\n",
       "      <td>1.761939e-21</td>\n",
       "      <td>73</td>\n",
       "      <td>74</td>\n",
       "      <td>...</td>\n",
       "      <td>1.037115</td>\n",
       "      <td>7.571437e-17</td>\n",
       "      <td>50</td>\n",
       "      <td>4.277862e-15</td>\n",
       "      <td>14.368773</td>\n",
       "      <td>0.414304</td>\n",
       "      <td>5.80</td>\n",
       "      <td>0.018648</td>\n",
       "      <td>124.70</td>\n",
       "      <td>CD44</td>\n",
       "    </tr>\n",
       "    <tr>\n",
       "      <th>147</th>\n",
       "      <td>P08571</td>\n",
       "      <td>1.045212</td>\n",
       "      <td>21.107079</td>\n",
       "      <td>20.104399</td>\n",
       "      <td>0.615821</td>\n",
       "      <td>0.449466</td>\n",
       "      <td>1.002680</td>\n",
       "      <td>2.152132e-21</td>\n",
       "      <td>73</td>\n",
       "      <td>74</td>\n",
       "      <td>...</td>\n",
       "      <td>1.033181</td>\n",
       "      <td>4.368335e-18</td>\n",
       "      <td>50</td>\n",
       "      <td>3.702164e-16</td>\n",
       "      <td>15.431544</td>\n",
       "      <td>0.362852</td>\n",
       "      <td>6.70</td>\n",
       "      <td>0.036370</td>\n",
       "      <td>67.95</td>\n",
       "      <td>CD14</td>\n",
       "    </tr>\n",
       "    <tr>\n",
       "      <th>338</th>\n",
       "      <td>Q06033</td>\n",
       "      <td>0.612527</td>\n",
       "      <td>22.366831</td>\n",
       "      <td>21.786368</td>\n",
       "      <td>0.476341</td>\n",
       "      <td>0.409579</td>\n",
       "      <td>0.580464</td>\n",
       "      <td>7.473925e-13</td>\n",
       "      <td>73</td>\n",
       "      <td>74</td>\n",
       "      <td>...</td>\n",
       "      <td>0.397065</td>\n",
       "      <td>2.676311e-07</td>\n",
       "      <td>50</td>\n",
       "      <td>1.620124e-06</td>\n",
       "      <td>5.790452</td>\n",
       "      <td>0.315875</td>\n",
       "      <td>9.50</td>\n",
       "      <td>0.000000</td>\n",
       "      <td>290.00</td>\n",
       "      <td>ITIH3</td>\n",
       "    </tr>\n",
       "    <tr>\n",
       "      <th>459</th>\n",
       "      <td>P80188</td>\n",
       "      <td>1.029217</td>\n",
       "      <td>20.316739</td>\n",
       "      <td>17.840397</td>\n",
       "      <td>1.213003</td>\n",
       "      <td>2.137889</td>\n",
       "      <td>2.476342</td>\n",
       "      <td>1.465579e-14</td>\n",
       "      <td>73</td>\n",
       "      <td>74</td>\n",
       "      <td>...</td>\n",
       "      <td>2.809937</td>\n",
       "      <td>4.068578e-14</td>\n",
       "      <td>50</td>\n",
       "      <td>1.060960e-12</td>\n",
       "      <td>11.974301</td>\n",
       "      <td>0.220844</td>\n",
       "      <td>40.45</td>\n",
       "      <td>0.470006</td>\n",
       "      <td>5.70</td>\n",
       "      <td>LCN2</td>\n",
       "    </tr>\n",
       "    <tr>\n",
       "      <th>...</th>\n",
       "      <td>...</td>\n",
       "      <td>...</td>\n",
       "      <td>...</td>\n",
       "      <td>...</td>\n",
       "      <td>...</td>\n",
       "      <td>...</td>\n",
       "      <td>...</td>\n",
       "      <td>...</td>\n",
       "      <td>...</td>\n",
       "      <td>...</td>\n",
       "      <td>...</td>\n",
       "      <td>...</td>\n",
       "      <td>...</td>\n",
       "      <td>...</td>\n",
       "      <td>...</td>\n",
       "      <td>...</td>\n",
       "      <td>...</td>\n",
       "      <td>...</td>\n",
       "      <td>...</td>\n",
       "      <td>...</td>\n",
       "      <td>...</td>\n",
       "    </tr>\n",
       "    <tr>\n",
       "      <th>214</th>\n",
       "      <td>P28072</td>\n",
       "      <td>0.223531</td>\n",
       "      <td>15.647090</td>\n",
       "      <td>14.969354</td>\n",
       "      <td>2.026160</td>\n",
       "      <td>2.110968</td>\n",
       "      <td>0.677737</td>\n",
       "      <td>5.052426e-02</td>\n",
       "      <td>73</td>\n",
       "      <td>74</td>\n",
       "      <td>...</td>\n",
       "      <td>0.163972</td>\n",
       "      <td>6.341254e-01</td>\n",
       "      <td>50</td>\n",
       "      <td>4.683410e-01</td>\n",
       "      <td>0.329438</td>\n",
       "      <td>0.000000</td>\n",
       "      <td>297.25</td>\n",
       "      <td>0.000000</td>\n",
       "      <td>290.00</td>\n",
       "      <td>PSMB6</td>\n",
       "    </tr>\n",
       "    <tr>\n",
       "      <th>213</th>\n",
       "      <td>P02655</td>\n",
       "      <td>0.074070</td>\n",
       "      <td>23.756954</td>\n",
       "      <td>23.552444</td>\n",
       "      <td>1.100918</td>\n",
       "      <td>0.677918</td>\n",
       "      <td>0.204510</td>\n",
       "      <td>1.794778e-01</td>\n",
       "      <td>73</td>\n",
       "      <td>74</td>\n",
       "      <td>...</td>\n",
       "      <td>0.029736</td>\n",
       "      <td>8.294893e-01</td>\n",
       "      <td>50</td>\n",
       "      <td>5.481421e-01</td>\n",
       "      <td>0.261107</td>\n",
       "      <td>0.000000</td>\n",
       "      <td>297.25</td>\n",
       "      <td>0.000738</td>\n",
       "      <td>262.85</td>\n",
       "      <td>APOC2</td>\n",
       "    </tr>\n",
       "    <tr>\n",
       "      <th>212</th>\n",
       "      <td>P05543</td>\n",
       "      <td>0.179881</td>\n",
       "      <td>20.271919</td>\n",
       "      <td>19.801139</td>\n",
       "      <td>1.119047</td>\n",
       "      <td>0.990934</td>\n",
       "      <td>0.470779</td>\n",
       "      <td>8.148517e-03</td>\n",
       "      <td>73</td>\n",
       "      <td>74</td>\n",
       "      <td>...</td>\n",
       "      <td>0.425511</td>\n",
       "      <td>2.881976e-02</td>\n",
       "      <td>50</td>\n",
       "      <td>4.322964e-02</td>\n",
       "      <td>1.364218</td>\n",
       "      <td>0.000000</td>\n",
       "      <td>297.25</td>\n",
       "      <td>0.000000</td>\n",
       "      <td>290.00</td>\n",
       "      <td>SERPINA7</td>\n",
       "    </tr>\n",
       "    <tr>\n",
       "      <th>211</th>\n",
       "      <td>P35749</td>\n",
       "      <td>0.022422</td>\n",
       "      <td>14.421859</td>\n",
       "      <td>14.481786</td>\n",
       "      <td>0.642077</td>\n",
       "      <td>0.609399</td>\n",
       "      <td>-0.059927</td>\n",
       "      <td>5.651676e-01</td>\n",
       "      <td>73</td>\n",
       "      <td>74</td>\n",
       "      <td>...</td>\n",
       "      <td>-0.124852</td>\n",
       "      <td>2.153973e-01</td>\n",
       "      <td>50</td>\n",
       "      <td>2.108304e-01</td>\n",
       "      <td>0.676067</td>\n",
       "      <td>0.000000</td>\n",
       "      <td>297.25</td>\n",
       "      <td>0.000000</td>\n",
       "      <td>290.00</td>\n",
       "      <td>MYH11</td>\n",
       "    </tr>\n",
       "    <tr>\n",
       "      <th>553</th>\n",
       "      <td>O00194</td>\n",
       "      <td>0.035288</td>\n",
       "      <td>14.322787</td>\n",
       "      <td>14.410264</td>\n",
       "      <td>0.427222</td>\n",
       "      <td>0.671945</td>\n",
       "      <td>-0.087477</td>\n",
       "      <td>3.518270e-01</td>\n",
       "      <td>73</td>\n",
       "      <td>74</td>\n",
       "      <td>...</td>\n",
       "      <td>0.029187</td>\n",
       "      <td>7.833608e-01</td>\n",
       "      <td>50</td>\n",
       "      <td>5.304927e-01</td>\n",
       "      <td>0.275321</td>\n",
       "      <td>0.000000</td>\n",
       "      <td>297.25</td>\n",
       "      <td>0.000000</td>\n",
       "      <td>290.00</td>\n",
       "      <td>RAB27B</td>\n",
       "    </tr>\n",
       "  </tbody>\n",
       "</table>\n",
       "<p>554 rows × 25 columns</p>\n",
       "</div>"
      ]
     },
     "execution_count": 15,
     "metadata": {},
     "output_type": "execute_result"
    }
   ],
   "execution_count": 15
  },
  {
   "cell_type": "code",
   "execution_count": 14,
   "metadata": {},
   "outputs": [],
   "source": [
    "quantified_data.row_annotations['-log(p)'] = - np.log(quantified_data.row_annotations['CorrectedPValue2-1'])"
   ]
  },
  {
   "cell_type": "code",
   "execution_count": 15,
   "metadata": {},
   "outputs": [],
   "source": [
    "import seaborn as sns"
   ]
  },
  {
   "cell_type": "code",
   "execution_count": 16,
   "metadata": {},
   "outputs": [
    {
     "data": {
      "text/plain": [
       "<Axes: xlabel='Log2FoldChange2-1', ylabel='-log(p)'>"
      ]
     },
     "execution_count": 16,
     "metadata": {},
     "output_type": "execute_result"
    },
    {
     "data": {
      "image/png": "[encoded data removed]",
      "text/plain": [
       "<Figure size 640x480 with 1 Axes>"
      ]
     },
     "metadata": {},
     "output_type": "display_data"
    }
   ],
   "source": [
    "sns.scatterplot(\n",
    "    data=quantified_data.row_annotations,\n",
    "    x=\"Log2FoldChange2-1\",\n",
    "    y=\"-log(p)\"\n",
    ")"
   ]
  },
  {
   "cell_type": "code",
   "execution_count": 17,
   "metadata": {},
   "outputs": [],
   "source": [
    "quantified_data.row_annotations['InverseRank2-1'] = 1 / quantified_data.row_annotations['MeanRank2-1']"
   ]
  },
  {
   "cell_type": "code",
   "execution_count": 18,
   "metadata": {},
   "outputs": [
    {
     "data": {
      "image/png": "[encoded data removed]",
      "text/plain": [
       "<Figure size 640x480 with 1 Axes>"
      ]
     },
     "metadata": {},
     "output_type": "display_data"
    }
   ],
   "source": [
    "ax = sns.scatterplot(\n",
    "    data=quantified_data.row_annotations.sort_values(\"MeanSHAP2-1\", ascending=False).head(10),\n",
    "    x=\"MeanSHAP2-1\",\n",
    "    y=\"Gene\",\n",
    "    hue=\"Gene\",\n",
    "    size=\"InverseRank2-1\",\n",
    ")\n",
    "\n",
    "sns.move_legend(ax, \"upper left\", bbox_to_anchor=(1, 1))"
   ]
  },
  {
   "cell_type": "code",
   "execution_count": 19,
   "metadata": {},
   "outputs": [
    {
     "data": {
      "image/png": "[encoded data removed]",
      "text/plain": [
       "<Figure size 640x480 with 1 Axes>"
      ]
     },
     "metadata": {},
     "output_type": "display_data"
    }
   ],
   "source": [
    "ax = sns.barplot(\n",
    "    data=quantified_data.row_annotations.sort_values(\"MeanSHAP2-1\", ascending=False).head(10),\n",
    "    x=\"MeanSHAP2-1\",\n",
    "    y=\"Gene\",\n",
    "    hue_order=\"Gene\",\n",
    ")"
   ]
  },
  {
   "cell_type": "code",
   "execution_count": 20,
   "metadata": {},
   "outputs": [
    {
     "data": {
      "text/plain": [
       "<Axes: xlabel='MeanSHAP2-1', ylabel='-log(p)'>"
      ]
     },
     "execution_count": 20,
     "metadata": {},
     "output_type": "execute_result"
    },
    {
     "data": {
      "image/png": "[encoded data removed]",
      "text/plain": [
       "<Figure size 640x480 with 1 Axes>"
      ]
     },
     "metadata": {},
     "output_type": "display_data"
    }
   ],
   "source": [
    "sns.scatterplot(\n",
    "    data=quantified_data.row_annotations.sort_values(\"MeanSHAP2-1\", ascending=False),\n",
    "    y=\"-log(p)\",\n",
    "    x=\"MeanSHAP2-1\",\n",
    ")"
   ]
  },
  {
   "cell_type": "code",
   "execution_count": null,
   "metadata": {},
   "outputs": [],
   "source": []
  }
 ],
 "metadata": {
  "kernelspec": {
   "display_name": "py311env",
   "language": "python",
   "name": "python3"
  },
  "language_info": {
   "codemirror_mode": {
    "name": "ipython",
    "version": 3
   },
   "file_extension": ".py",
   "mimetype": "text/x-python",
   "name": "python",
   "nbconvert_exporter": "python",
   "pygments_lexer": "ipython3",
   "version": "3.10.11"
  },
  "orig_nbformat": 4
 },
 "nbformat": 4,
 "nbformat_minor": 2
}
